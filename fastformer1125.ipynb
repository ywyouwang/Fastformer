{
 "cells": [
  {
   "cell_type": "code",
   "execution_count": 1,
   "metadata": {
    "colab": {
     "base_uri": "https://localhost:8080/"
    },
    "id": "fHBHa9ThCjhK",
    "outputId": "63af514d-8278-4ebe-e56a-114b964848be"
   },
   "outputs": [
    {
     "name": "stdout",
     "output_type": "stream",
     "text": [
      "Mounted at /content/drive\n"
     ]
    }
   ],
   "source": [
    "from google.colab import drive\n",
    "drive.mount('/content/drive')"
   ]
  },
  {
   "cell_type": "code",
   "execution_count": 2,
   "metadata": {
    "colab": {
     "base_uri": "https://localhost:8080/"
    },
    "id": "IOcmpu8tCykN",
    "outputId": "2ac4864b-bc33-4a21-eb7f-68f03b16f6d5"
   },
   "outputs": [
    {
     "name": "stdout",
     "output_type": "stream",
     "text": [
      "/content/drive/MyDrive/nlp_final_project_fastformer\n"
     ]
    }
   ],
   "source": [
    "cd /content/drive/MyDrive/nlp_final_project_fastformer/"
   ]
  },
  {
   "cell_type": "markdown",
   "metadata": {
    "id": "E9ZInjmjFGY7"
   },
   "source": [
    "### Load packages and config"
   ]
  },
  {
   "cell_type": "code",
   "execution_count": 3,
   "metadata": {
    "colab": {
     "base_uri": "https://localhost:8080/"
    },
    "id": "qLpeMmPkDEDb",
    "outputId": "490ad032-1654-43e6-83ac-225fa4c9bae2"
   },
   "outputs": [
    {
     "name": "stdout",
     "output_type": "stream",
     "text": [
      "Looking in indexes: https://pypi.org/simple, https://us-python.pkg.dev/colab-wheels/public/simple/\n",
      "Collecting transformers\n",
      "  Downloading transformers-4.24.0-py3-none-any.whl (5.5 MB)\n",
      "\u001b[K     |████████████████████████████████| 5.5 MB 15.1 MB/s \n",
      "\u001b[?25hCollecting huggingface-hub<1.0,>=0.10.0\n",
      "  Downloading huggingface_hub-0.11.0-py3-none-any.whl (182 kB)\n",
      "\u001b[K     |████████████████████████████████| 182 kB 96.1 MB/s \n",
      "\u001b[?25hRequirement already satisfied: filelock in /usr/local/lib/python3.7/dist-packages (from transformers) (3.8.0)\n",
      "Requirement already satisfied: numpy>=1.17 in /usr/local/lib/python3.7/dist-packages (from transformers) (1.21.6)\n",
      "Requirement already satisfied: regex!=2019.12.17 in /usr/local/lib/python3.7/dist-packages (from transformers) (2022.6.2)\n",
      "Requirement already satisfied: pyyaml>=5.1 in /usr/local/lib/python3.7/dist-packages (from transformers) (6.0)\n",
      "Requirement already satisfied: packaging>=20.0 in /usr/local/lib/python3.7/dist-packages (from transformers) (21.3)\n",
      "Requirement already satisfied: requests in /usr/local/lib/python3.7/dist-packages (from transformers) (2.23.0)\n",
      "Requirement already satisfied: tqdm>=4.27 in /usr/local/lib/python3.7/dist-packages (from transformers) (4.64.1)\n",
      "Collecting tokenizers!=0.11.3,<0.14,>=0.11.1\n",
      "  Downloading tokenizers-0.13.2-cp37-cp37m-manylinux_2_17_x86_64.manylinux2014_x86_64.whl (7.6 MB)\n",
      "\u001b[K     |████████████████████████████████| 7.6 MB 83.0 MB/s \n",
      "\u001b[?25hRequirement already satisfied: importlib-metadata in /usr/local/lib/python3.7/dist-packages (from transformers) (4.13.0)\n",
      "Requirement already satisfied: typing-extensions>=3.7.4.3 in /usr/local/lib/python3.7/dist-packages (from huggingface-hub<1.0,>=0.10.0->transformers) (4.1.1)\n",
      "Requirement already satisfied: pyparsing!=3.0.5,>=2.0.2 in /usr/local/lib/python3.7/dist-packages (from packaging>=20.0->transformers) (3.0.9)\n",
      "Requirement already satisfied: zipp>=0.5 in /usr/local/lib/python3.7/dist-packages (from importlib-metadata->transformers) (3.10.0)\n",
      "Requirement already satisfied: chardet<4,>=3.0.2 in /usr/local/lib/python3.7/dist-packages (from requests->transformers) (3.0.4)\n",
      "Requirement already satisfied: idna<3,>=2.5 in /usr/local/lib/python3.7/dist-packages (from requests->transformers) (2.10)\n",
      "Requirement already satisfied: certifi>=2017.4.17 in /usr/local/lib/python3.7/dist-packages (from requests->transformers) (2022.9.24)\n",
      "Requirement already satisfied: urllib3!=1.25.0,!=1.25.1,<1.26,>=1.21.1 in /usr/local/lib/python3.7/dist-packages (from requests->transformers) (1.24.3)\n",
      "Installing collected packages: tokenizers, huggingface-hub, transformers\n",
      "Successfully installed huggingface-hub-0.11.0 tokenizers-0.13.2 transformers-4.24.0\n"
     ]
    }
   ],
   "source": [
    "!pip install transformers"
   ]
  },
  {
   "cell_type": "code",
   "execution_count": 4,
   "metadata": {
    "colab": {
     "base_uri": "https://localhost:8080/"
    },
    "id": "bk7UY9F4DHm6",
    "outputId": "a5548687-9e10-49d5-ea0f-b15717c1d0d3"
   },
   "outputs": [
    {
     "name": "stdout",
     "output_type": "stream",
     "text": [
      "Looking in indexes: https://pypi.org/simple, https://us-python.pkg.dev/colab-wheels/public/simple/\n",
      "Collecting datasets\n",
      "  Downloading datasets-2.7.1-py3-none-any.whl (451 kB)\n",
      "\u001b[K     |████████████████████████████████| 451 kB 14.2 MB/s \n",
      "\u001b[?25hRequirement already satisfied: dill<0.3.7 in /usr/local/lib/python3.7/dist-packages (from datasets) (0.3.6)\n",
      "Requirement already satisfied: tqdm>=4.62.1 in /usr/local/lib/python3.7/dist-packages (from datasets) (4.64.1)\n",
      "Requirement already satisfied: aiohttp in /usr/local/lib/python3.7/dist-packages (from datasets) (3.8.3)\n",
      "Requirement already satisfied: pandas in /usr/local/lib/python3.7/dist-packages (from datasets) (1.3.5)\n",
      "Requirement already satisfied: importlib-metadata in /usr/local/lib/python3.7/dist-packages (from datasets) (4.13.0)\n",
      "Requirement already satisfied: numpy>=1.17 in /usr/local/lib/python3.7/dist-packages (from datasets) (1.21.6)\n",
      "Collecting responses<0.19\n",
      "  Downloading responses-0.18.0-py3-none-any.whl (38 kB)\n",
      "Collecting xxhash\n",
      "  Downloading xxhash-3.1.0-cp37-cp37m-manylinux_2_17_x86_64.manylinux2014_x86_64.whl (212 kB)\n",
      "\u001b[K     |████████████████████████████████| 212 kB 75.9 MB/s \n",
      "\u001b[?25hRequirement already satisfied: requests>=2.19.0 in /usr/local/lib/python3.7/dist-packages (from datasets) (2.23.0)\n",
      "Requirement already satisfied: fsspec[http]>=2021.11.1 in /usr/local/lib/python3.7/dist-packages (from datasets) (2022.11.0)\n",
      "Collecting multiprocess\n",
      "  Downloading multiprocess-0.70.14-py37-none-any.whl (115 kB)\n",
      "\u001b[K     |████████████████████████████████| 115 kB 59.3 MB/s \n",
      "\u001b[?25hRequirement already satisfied: packaging in /usr/local/lib/python3.7/dist-packages (from datasets) (21.3)\n",
      "Requirement already satisfied: pyyaml>=5.1 in /usr/local/lib/python3.7/dist-packages (from datasets) (6.0)\n",
      "Requirement already satisfied: pyarrow>=6.0.0 in /usr/local/lib/python3.7/dist-packages (from datasets) (9.0.0)\n",
      "Requirement already satisfied: huggingface-hub<1.0.0,>=0.2.0 in /usr/local/lib/python3.7/dist-packages (from datasets) (0.11.0)\n",
      "Requirement already satisfied: aiosignal>=1.1.2 in /usr/local/lib/python3.7/dist-packages (from aiohttp->datasets) (1.3.1)\n",
      "Requirement already satisfied: multidict<7.0,>=4.5 in /usr/local/lib/python3.7/dist-packages (from aiohttp->datasets) (6.0.2)\n",
      "Requirement already satisfied: typing-extensions>=3.7.4 in /usr/local/lib/python3.7/dist-packages (from aiohttp->datasets) (4.1.1)\n",
      "Requirement already satisfied: charset-normalizer<3.0,>=2.0 in /usr/local/lib/python3.7/dist-packages (from aiohttp->datasets) (2.1.1)\n",
      "Requirement already satisfied: frozenlist>=1.1.1 in /usr/local/lib/python3.7/dist-packages (from aiohttp->datasets) (1.3.3)\n",
      "Requirement already satisfied: attrs>=17.3.0 in /usr/local/lib/python3.7/dist-packages (from aiohttp->datasets) (22.1.0)\n",
      "Requirement already satisfied: yarl<2.0,>=1.0 in /usr/local/lib/python3.7/dist-packages (from aiohttp->datasets) (1.8.1)\n",
      "Requirement already satisfied: asynctest==0.13.0 in /usr/local/lib/python3.7/dist-packages (from aiohttp->datasets) (0.13.0)\n",
      "Requirement already satisfied: async-timeout<5.0,>=4.0.0a3 in /usr/local/lib/python3.7/dist-packages (from aiohttp->datasets) (4.0.2)\n",
      "Requirement already satisfied: filelock in /usr/local/lib/python3.7/dist-packages (from huggingface-hub<1.0.0,>=0.2.0->datasets) (3.8.0)\n",
      "Requirement already satisfied: pyparsing!=3.0.5,>=2.0.2 in /usr/local/lib/python3.7/dist-packages (from packaging->datasets) (3.0.9)\n",
      "Requirement already satisfied: idna<3,>=2.5 in /usr/local/lib/python3.7/dist-packages (from requests>=2.19.0->datasets) (2.10)\n",
      "Requirement already satisfied: urllib3!=1.25.0,!=1.25.1,<1.26,>=1.21.1 in /usr/local/lib/python3.7/dist-packages (from requests>=2.19.0->datasets) (1.24.3)\n",
      "Requirement already satisfied: certifi>=2017.4.17 in /usr/local/lib/python3.7/dist-packages (from requests>=2.19.0->datasets) (2022.9.24)\n",
      "Requirement already satisfied: chardet<4,>=3.0.2 in /usr/local/lib/python3.7/dist-packages (from requests>=2.19.0->datasets) (3.0.4)\n",
      "Collecting urllib3!=1.25.0,!=1.25.1,<1.26,>=1.21.1\n",
      "  Downloading urllib3-1.25.11-py2.py3-none-any.whl (127 kB)\n",
      "\u001b[K     |████████████████████████████████| 127 kB 77.5 MB/s \n",
      "\u001b[?25hRequirement already satisfied: zipp>=0.5 in /usr/local/lib/python3.7/dist-packages (from importlib-metadata->datasets) (3.10.0)\n",
      "Requirement already satisfied: pytz>=2017.3 in /usr/local/lib/python3.7/dist-packages (from pandas->datasets) (2022.6)\n",
      "Requirement already satisfied: python-dateutil>=2.7.3 in /usr/local/lib/python3.7/dist-packages (from pandas->datasets) (2.8.2)\n",
      "Requirement already satisfied: six>=1.5 in /usr/local/lib/python3.7/dist-packages (from python-dateutil>=2.7.3->pandas->datasets) (1.15.0)\n",
      "Installing collected packages: urllib3, xxhash, responses, multiprocess, datasets\n",
      "  Attempting uninstall: urllib3\n",
      "    Found existing installation: urllib3 1.24.3\n",
      "    Uninstalling urllib3-1.24.3:\n",
      "      Successfully uninstalled urllib3-1.24.3\n",
      "Successfully installed datasets-2.7.1 multiprocess-0.70.14 responses-0.18.0 urllib3-1.25.11 xxhash-3.1.0\n"
     ]
    }
   ],
   "source": [
    "!pip install datasets"
   ]
  },
  {
   "cell_type": "code",
   "execution_count": 1,
   "metadata": {
    "id": "hl4W_If2Yv69"
   },
   "outputs": [],
   "source": [
    "import torch\n",
    "import torch.nn.functional as F\n",
    "from torch import nn, einsum\n",
    "import numpy as np\n",
    "from sklearn.metrics import *\n",
    "from tqdm import tqdm\n",
    "from datasets import load_dataset\n",
    "from nltk.tokenize import wordpunct_tokenize\n",
    "from transformers import BertConfig\n",
    "from transformers.models.bert.modeling_bert import BertSelfOutput, BertIntermediate, BertOutput\n",
    "from random import shuffle\n",
    "import torch.optim as optim\n",
    "import matplotlib.pyplot as plt\n",
    "from utils import *"
   ]
  },
  {
   "cell_type": "code",
   "execution_count": 2,
   "metadata": {
    "id": "oI_ga-cHDqP-"
   },
   "outputs": [],
   "source": [
    "config=BertConfig.from_json_file('fastformer.json')"
   ]
  },
  {
   "cell_type": "markdown",
   "metadata": {
    "id": "hTlHmoYRQT_c"
   },
   "source": [
    "### Load pretrain embedding"
   ]
  },
  {
   "cell_type": "code",
   "execution_count": 5,
   "metadata": {
    "id": "25C_hDgYRjgU"
   },
   "outputs": [],
   "source": [
    "# !wget http://nlp.stanford.edu/data/glove.6B.zip\n",
    "# !unzip glove.6B.zip\n",
    "# !ls -lat"
   ]
  },
  {
   "cell_type": "code",
   "execution_count": 6,
   "metadata": {
    "id": "8s5hf-A-Twpo"
   },
   "outputs": [],
   "source": [
    "class WordEmbeddings:\n",
    "    \"\"\"\n",
    "    Wraps an Indexer and a list of 1-D numpy arrays where each position in the list is the vector for the corresponding\n",
    "    word in the indexer. The 0 vector is returned if an unknown word is queried.\n",
    "    \"\"\"\n",
    "    def __init__(self, word_indexer, vectors):\n",
    "        self.word_indexer = word_indexer\n",
    "        self.vectors = vectors\n",
    "\n",
    "    def get_initialized_embedding_layer(self):\n",
    "        return torch.nn.Embedding.from_pretrained(torch.FloatTensor(self.vectors))\n",
    "\n",
    "    def get_embedding_length(self):\n",
    "        return len(self.vectors[0])\n",
    "\n",
    "    # def get_embedding(self, word):\n",
    "    def get_embedding(self, word_idx):\n",
    "        \"\"\"\n",
    "        Returns the embedding for a given word\n",
    "        :param word: The word to look up\n",
    "        :return: The UNK vector if the word is not in the Indexer or the vector otherwise\n",
    "        \"\"\"\n",
    "        # word_idx = self.word_indexer.index_of(word)\n",
    "        if word_idx != -1:\n",
    "            return self.vectors[word_idx]\n",
    "        else:\n",
    "            return self.vectors[self.word_indexer.index_of(\"UNK\")]\n"
   ]
  },
  {
   "cell_type": "code",
   "execution_count": 7,
   "metadata": {
    "id": "5JCtn_d2T4n3"
   },
   "outputs": [],
   "source": [
    "def read_word_embeddings(embeddings_file: str) -> WordEmbeddings:\n",
    "    \"\"\"\n",
    "    Loads the given embeddings (ASCII-formatted) into a WordEmbeddings object. Augments this with an UNK embedding\n",
    "    that is the 0 vector. Reads in all embeddings with no filtering -- you should only use this for relativized\n",
    "    word embedding files.\n",
    "    :param embeddings_file: path to the file containing embeddings\n",
    "    :return: WordEmbeddings object reflecting the words and their embeddings\n",
    "    \"\"\"\n",
    "    f = open(embeddings_file)\n",
    "    word_indexer = Indexer()\n",
    "    vectors = []\n",
    "    # Make position 0 a PAD token, which can be useful if you\n",
    "    word_indexer.add_and_get_index(\"PAD\")\n",
    "    # Make position 1 the UNK token\n",
    "    word_indexer.add_and_get_index(\"UNK\")\n",
    "    for line in f:\n",
    "        if line.strip() != \"\":\n",
    "            space_idx = line.find(' ')\n",
    "            word = line[:space_idx]\n",
    "            numbers = line[space_idx+1:]\n",
    "            float_numbers = [float(number_str) for number_str in numbers.split()]\n",
    "            vector = np.array(float_numbers)\n",
    "            word_indexer.add_and_get_index(word)\n",
    "            # Append the PAD and UNK vectors to start. Have to do this weirdly because we need to read the first line\n",
    "            # of the file to see what the embedding dim is\n",
    "            if len(vectors) == 0:\n",
    "                vectors.append(np.zeros(vector.shape[0]))\n",
    "                vectors.append(np.zeros(vector.shape[0]))\n",
    "            vectors.append(vector)\n",
    "    f.close()\n",
    "    print(\"Read in \" + repr(len(word_indexer)) + \" vectors of size \" + repr(vectors[0].shape[0]))\n",
    "    # Turn vectors into a 2-D numpy array\n",
    "    return WordEmbeddings(word_indexer, np.array(vectors))"
   ]
  },
  {
   "cell_type": "code",
   "execution_count": 68,
   "metadata": {
    "colab": {
     "base_uri": "https://localhost:8080/"
    },
    "id": "KTLCw65UUNHG",
    "outputId": "b14b2176-206e-480c-d2dd-412676722ec8"
   },
   "outputs": [
    {
     "name": "stdout",
     "output_type": "stream",
     "text": [
      "Read in 400002 vectors of size 50\n"
     ]
    }
   ],
   "source": [
    "word_embeddings = read_word_embeddings(\"glove.6B.50d.txt\")"
   ]
  },
  {
   "cell_type": "code",
   "execution_count": 11,
   "metadata": {
    "colab": {
     "base_uri": "https://localhost:8080/"
    },
    "id": "8c6w1x2fkYc3",
    "outputId": "14b03168-e166-44c7-d5d1-b527a362d31a"
   },
   "outputs": [
    {
     "name": "stdout",
     "output_type": "stream",
     "text": [
      "Read in 400002 vectors of size 100\n"
     ]
    }
   ],
   "source": [
    "word_embeddings_100 = read_word_embeddings(\"glove.6B.100d.txt\")"
   ]
  },
  {
   "cell_type": "code",
   "execution_count": 12,
   "metadata": {
    "colab": {
     "base_uri": "https://localhost:8080/"
    },
    "id": "P7b13m3LkY6Z",
    "outputId": "45c5cbf6-573c-4e6f-ba8a-74e5f040c177"
   },
   "outputs": [
    {
     "name": "stdout",
     "output_type": "stream",
     "text": [
      "Read in 400002 vectors of size 200\n"
     ]
    }
   ],
   "source": [
    "word_embeddings_200 = read_word_embeddings(\"glove.6B.200d.txt\")"
   ]
  },
  {
   "cell_type": "code",
   "execution_count": 13,
   "metadata": {
    "colab": {
     "base_uri": "https://localhost:8080/"
    },
    "id": "cS34ehH1kd3c",
    "outputId": "df4b68f8-a678-4b4c-a010-eb15472d8709"
   },
   "outputs": [
    {
     "name": "stdout",
     "output_type": "stream",
     "text": [
      "Read in 400002 vectors of size 300\n"
     ]
    }
   ],
   "source": [
    "word_embeddings_300 = read_word_embeddings(\"glove.6B.300d.txt\")"
   ]
  },
  {
   "cell_type": "markdown",
   "metadata": {
    "id": "KhJJ9KcrEKSR"
   },
   "source": [
    "### Build Fastformer Model"
   ]
  },
  {
   "cell_type": "code",
   "execution_count": 9,
   "metadata": {
    "id": "GwaWEFHrbphB"
   },
   "outputs": [],
   "source": [
    "config=BertConfig.from_json_file('fastformer.json')"
   ]
  },
  {
   "cell_type": "code",
   "execution_count": 10,
   "metadata": {
    "id": "vKtDbfr4vwLQ"
   },
   "outputs": [],
   "source": [
    "class AttentionPooling(nn.Module):\n",
    "    def __init__(self, config):\n",
    "        self.config = config\n",
    "        super(AttentionPooling, self).__init__()\n",
    "        self.att_fc1 = nn.Linear(config.hidden_size, config.hidden_size)\n",
    "        self.att_fc2 = nn.Linear(config.hidden_size, 1)\n",
    "        self.apply(self.init_weights)\n",
    "        \n",
    "    def init_weights(self, module):\n",
    "        if isinstance(module, nn.Linear):\n",
    "            module.weight.data.normal_(mean=0.0, std=self.config.initializer_range)\n",
    "        if isinstance(module, nn.Linear) and module.bias is not None:\n",
    "            module.bias.data.zero_()\n",
    "            \n",
    "                \n",
    "    def forward(self, x, attn_mask=None):\n",
    "        bz = x.shape[0]\n",
    "        e = self.att_fc1(x)\n",
    "        e = nn.Tanh()(e)\n",
    "        alpha = self.att_fc2(e)\n",
    "        alpha = torch.exp(alpha)\n",
    "        if attn_mask is not None:\n",
    "            alpha = alpha * attn_mask.unsqueeze(2)\n",
    "        alpha = alpha / (torch.sum(alpha, dim=1, keepdim=True) + 1e-8)\n",
    "        x = torch.bmm(x.permute(0, 2, 1), alpha)\n",
    "        x = torch.reshape(x, (bz, -1))  \n",
    "        return x"
   ]
  },
  {
   "cell_type": "code",
   "execution_count": 11,
   "metadata": {
    "id": "6_nVgSY2vzMk"
   },
   "outputs": [],
   "source": [
    "class AdditiveAttention(nn.Module):\n",
    "    def __init__(self, config):\n",
    "        super(AdditiveAttention, self).__init__()\n",
    "        self.config = config\n",
    "\n",
    "        if config.hidden_size % config.num_attention_heads != 0:\n",
    "            raise ValueError(\n",
    "                \"The hidden size (%d) is not a multiple of the number of attention \"\n",
    "                \"heads (%d)\" %\n",
    "                (config.hidden_size, config.num_attention_heads))\n",
    "            \n",
    "        self.attention_head_size = int(config.hidden_size /config.num_attention_heads)\n",
    "        self.num_attention_heads = config.num_attention_heads\n",
    "        self.all_head_size = self.num_attention_heads * self.attention_head_size\n",
    "        self.emb_dim = config.hidden_size\n",
    "#         self.emb_dim = 50\n",
    "\n",
    "        self.query = nn.Linear(self.emb_dim, self.all_head_size)\n",
    "        self.query_att = nn.Linear(self.all_head_size, self.num_attention_heads)\n",
    "\n",
    "        self.key = nn.Linear(self.emb_dim, self.all_head_size)\n",
    "        self.key_att = nn.Linear(self.all_head_size, self.num_attention_heads)\n",
    "\n",
    "        self.value = nn.Linear(self.emb_dim, self.all_head_size)\n",
    "\n",
    "        self.transform = nn.Linear(self.all_head_size, self.all_head_size)\n",
    "\n",
    "        self.softmax = nn.Softmax(dim=-1)\n",
    "        \n",
    "        self.apply(self.init_weights)\n",
    "\n",
    "        self.param_sharing = config.param_sharing\n",
    "\n",
    "    def init_weights(self, module):\n",
    "        if isinstance(module, nn.Linear):\n",
    "            module.weight.data.normal_(mean=0.0, std=self.config.initializer_range)\n",
    "        if isinstance(module, nn.Linear) and module.bias is not None:\n",
    "            module.bias.data.zero_()\n",
    "                \n",
    "    def transpose_for_scores(self, x):\n",
    "        new_x_shape = x.size()[:-1] + (self.num_attention_heads,self.attention_head_size)\n",
    "        x = x.view(*new_x_shape)\n",
    "        return x.permute(0, 2, 1, 3)\n",
    "    \n",
    "    def forward(self, input, attention_mask):\n",
    "        # input:(batch_size, seq_len, emb_dim)\n",
    "        batch_size, seq_len, _ = input.shape\n",
    "\n",
    "        # concatenated Q matrix for all heads (batch_size, seq_len, all_head_size)\n",
    "        concat_Q = self.query(input)\n",
    "        # concatenated K matrix for all heads (batch_size, seq_len, all_head_size)\n",
    "        concat_K = self.key(input)\n",
    "\n",
    "        # (batch_size, num_head, seq_len)\n",
    "        query_for_score = self.query_att(concat_Q).transpose(1, 2) / self.attention_head_size**0.5\n",
    "        # add attention mask\n",
    "        query_for_score += attention_mask\n",
    "\n",
    "        # the weight alpha : (batch_size, num_head, 1, seq_len)\n",
    "        query_weight = self.softmax(query_for_score).unsqueeze(2)\n",
    "\n",
    "        # (batch_size, num_head, seq_len, head_dim)\n",
    "        byhead_Q = self.transpose_for_scores(concat_Q)\n",
    "        # weighted sum of q, get the global representation of q \n",
    "        # after transpose: (batch_size, 1, num_head, head_dim)\n",
    "        # after view: (batch_size, 1, num_head* head_dim)\n",
    "        global_q = torch.matmul(query_weight, byhead_Q).transpose(1, 2).view(-1,1,self.num_attention_heads*self.attention_head_size)\n",
    "        # (batch_size, seq_len, num_head* head_dim)\n",
    "        global_q_matrix = global_q.repeat(1, seq_len,1)\n",
    "        \n",
    "\n",
    "        # global q dot product with k (batch_size, seq_len, all_head_size)\n",
    "        P = concat_K * global_q_matrix\n",
    "        # (batch_size, num_head, seq_len)\n",
    "        P_for_score = (self.key_att(P)/ self.attention_head_size**0.5).transpose(1, 2)\n",
    "        # add attention mask\n",
    "        P_for_score +=attention_mask\n",
    "\n",
    "        # the weight beta (batch_size, num_head, 1, seq_len)\n",
    "        query_key_weight = self.softmax(P_for_score).unsqueeze(2)\n",
    "        # (batch_size, num_head, seq_len, head_dim)\n",
    "        byhead_P = self.transpose_for_scores(P)\n",
    "        # (batch_size, num_head, 1, head_dim)\n",
    "        global_k = torch.matmul(query_key_weight, byhead_P)\n",
    "\n",
    "        if self.param_sharing:\n",
    "            # query-value parameter sharing\n",
    "            # (batch_size, num_head, 1, head_dim) (batch_size, num_head, seq_len, head_dim) -> (batch_size, num_head, seq_len, head_dim)\n",
    "            # after transpose: (batch_size, seq_len, num_head,  head_dim)\n",
    "            weighted_value =(global_k * byhead_Q).transpose(1, 2)\n",
    "\n",
    "        else:\n",
    "            # without query value param sharing\n",
    "            concat_V = self.value(input)\n",
    "            byhead_V = self.transpose_for_scores(concat_V)\n",
    "\n",
    "            weighted_value =(global_k * byhead_V).transpose(1, 2)\n",
    "\n",
    "\n",
    "        # (batch_size, seq_len, num_head*head_dim)\n",
    "        weighted_value = weighted_value.reshape(weighted_value.size()[:-2] + (self.num_attention_heads * self.attention_head_size,))\n",
    "        # add the original Q as a residual\n",
    "        weighted_value = self.transform(weighted_value) + concat_Q\n",
    "      \n",
    "        return weighted_value"
   ]
  },
  {
   "cell_type": "code",
   "execution_count": 12,
   "metadata": {
    "id": "e7mAdHpEv4S7"
   },
   "outputs": [],
   "source": [
    "class FastAttention(nn.Module):\n",
    "    def __init__(self, config):\n",
    "        super(FastAttention, self).__init__()\n",
    "        self.self = AdditiveAttention(config)\n",
    "        self.output = BertSelfOutput(config)\n",
    "\n",
    "    def forward(self, input_tensor, attention_mask):\n",
    "        self_output = self.self(input_tensor, attention_mask)\n",
    "        attention_output = self.output(self_output, input_tensor)\n",
    "        return attention_output\n",
    "\n",
    "class FastformerLayer(nn.Module):\n",
    "    def __init__(self, config):\n",
    "        super(FastformerLayer, self).__init__()\n",
    "        self.attention = FastAttention(config)\n",
    "        self.intermediate = BertIntermediate(config)\n",
    "        self.output = BertOutput(config)\n",
    "\n",
    "    def forward(self, hidden_states, attention_mask):\n",
    "        attention_output = self.attention(hidden_states, attention_mask)\n",
    "        intermediate_output = self.intermediate(attention_output)\n",
    "        layer_output = self.output(intermediate_output, attention_output)\n",
    "        return layer_output\n",
    "\n",
    "class FastformerEncoder(nn.Module):\n",
    "    def __init__(self, config, pooler_count=1):\n",
    "        super(FastformerEncoder, self).__init__()\n",
    "        self.config = config\n",
    "        self.encoders = nn.ModuleList([FastformerLayer(config) for _ in range(config.num_hidden_layers)])\n",
    "        self.position_embeddings = nn.Embedding(config.max_position_embeddings, config.hidden_size)\n",
    "#         self.position_embeddings = nn.Embedding(config.max_position_embeddings, 50)\n",
    "        self.LayerNorm = nn.LayerNorm(config.hidden_size, eps=config.layer_norm_eps)\n",
    "        self.dropout = nn.Dropout(config.hidden_dropout_prob)\n",
    "\n",
    "        # support multiple different poolers with shared bert encoder.\n",
    "        self.poolers = nn.ModuleList()\n",
    "        if config.pooler_type == 'weightpooler':\n",
    "            for _ in range(pooler_count):\n",
    "                self.poolers.append(AttentionPooling(config))\n",
    "        # logging.info(f\"This model has {len(self.poolers)} poolers.\")\n",
    "\n",
    "        self.apply(self.init_weights)\n",
    "\n",
    "    def init_weights(self, module):\n",
    "        if isinstance(module, (nn.Linear, nn.Embedding)):\n",
    "            module.weight.data.normal_(mean=0.0, std=self.config.initializer_range)\n",
    "            if isinstance(module, (nn.Embedding)) and module.padding_idx is not None:\n",
    "                with torch.no_grad():\n",
    "                    module.weight[module.padding_idx].fill_(0)\n",
    "        elif isinstance(module, nn.LayerNorm):\n",
    "            module.bias.data.zero_()\n",
    "            module.weight.data.fill_(1.0)\n",
    "        if isinstance(module, nn.Linear) and module.bias is not None:\n",
    "            module.bias.data.zero_()\n",
    "\n",
    "    def forward(self, \n",
    "                input_embs, \n",
    "                attention_mask, \n",
    "                pooler_index=0):\n",
    "        #input_embs: batch_size, seq_len, emb_dim\n",
    "        #attention_mask: batch_size, seq_len, emb_dim\n",
    "\n",
    "        extended_attention_mask = attention_mask.unsqueeze(1)\n",
    "        extended_attention_mask = extended_attention_mask.to(dtype=next(self.parameters()).dtype)  # fp16 compatibility\n",
    "        extended_attention_mask = (1.0 - extended_attention_mask) * -10000.0\n",
    "\n",
    "        batch_size, seq_length, emb_dim = input_embs.shape\n",
    "        position_ids = torch.arange(seq_length, dtype=torch.long, device=input_embs.device)\n",
    "        position_ids = position_ids.unsqueeze(0).expand(batch_size, -1)\n",
    "        position_embeddings = self.position_embeddings(position_ids)\n",
    "\n",
    "        embeddings = input_embs + position_embeddings\n",
    "        \n",
    "        embeddings = self.LayerNorm(embeddings)\n",
    "        embeddings = self.dropout(embeddings)\n",
    "        #print(embeddings.size())\n",
    "        all_hidden_states = [embeddings]\n",
    "\n",
    "        for i, layer_module in enumerate(self.encoders):\n",
    "            layer_outputs = layer_module(all_hidden_states[-1], extended_attention_mask)\n",
    "            all_hidden_states.append(layer_outputs)\n",
    "        assert len(self.poolers) > pooler_index\n",
    "        output = self.poolers[pooler_index](all_hidden_states[-1], attention_mask)\n",
    "\n",
    "        return output "
   ]
  },
  {
   "cell_type": "code",
   "execution_count": 13,
   "metadata": {
    "id": "1fMczNbccXPC"
   },
   "outputs": [],
   "source": [
    "class Model(torch.nn.Module):\n",
    "\n",
    "    def __init__(self,config,outclasses,num_tokens):\n",
    "        super(Model, self).__init__()\n",
    "        self.config = config\n",
    "        self.word_embedding = nn.Embedding(num_tokens,config.hidden_size,padding_idx=0)\n",
    "        self.fastformer_model = FastformerEncoder(config)\n",
    "        self.dense_linear = nn.Linear(config.hidden_size,outclasses)\n",
    "        self.criterion = nn.CrossEntropyLoss() \n",
    "        self.apply(self.init_weights)\n",
    "        \n",
    "    def init_weights(self, module):\n",
    "        if isinstance(module, (nn.Linear, nn.Embedding)):\n",
    "            module.weight.data.normal_(mean=0.0, std=self.config.initializer_range)\n",
    "            if isinstance(module, (nn.Embedding)) and module.padding_idx is not None:\n",
    "                with torch.no_grad():\n",
    "                    module.weight[module.padding_idx].fill_(0)\n",
    "        if isinstance(module, nn.Linear) and module.bias is not None:\n",
    "            module.bias.data.zero_()\n",
    "    \n",
    "    def forward(self,input_ids,targets):\n",
    "        mask=input_ids.bool().float()\n",
    "        embds=self.word_embedding(input_ids)\n",
    "        text_vec = self.fastformer_model(embds,mask)\n",
    "        score = self.dense_linear(text_vec)\n",
    "        loss = self.criterion(score, targets) \n",
    "        return loss, score"
   ]
  },
  {
   "cell_type": "code",
   "execution_count": 14,
   "metadata": {
    "id": "cFo3kZKGPO-8"
   },
   "outputs": [],
   "source": [
    "class Model_pretrained_emb(torch.nn.Module):\n",
    "\n",
    "    def __init__(self,config,outclasses,embeddings: word_embeddings,pretrained_emb_dim):\n",
    "        super(Model_pretrained_emb, self).__init__()\n",
    "        self.config = config\n",
    "        # self.word_embedding = nn.Embedding(num_tokens,config.hidden_size,padding_idx=0)\n",
    "        self.word_embedding = embeddings\n",
    "        self.transform = nn.Linear(pretrained_emb_dim,config.hidden_size)\n",
    "        self.fastformer_model = FastformerEncoder(config)\n",
    "        self.dense_linear = nn.Linear(config.hidden_size,outclasses)\n",
    "        self.criterion = nn.CrossEntropyLoss() \n",
    "        self.apply(self.init_weights)\n",
    "        \n",
    "    def init_weights(self, module):\n",
    "        if isinstance(module, (nn.Linear, nn.Embedding)):\n",
    "            module.weight.data.normal_(mean=0.0, std=self.config.initializer_range)\n",
    "            if isinstance(module, (nn.Embedding)) and module.padding_idx is not None:\n",
    "                with torch.no_grad():\n",
    "                    module.weight[module.padding_idx].fill_(0)\n",
    "        if isinstance(module, nn.Linear) and module.bias is not None:\n",
    "            module.bias.data.zero_()\n",
    "    \n",
    "    def forward(self,input_ids,targets):\n",
    "\n",
    "        \n",
    "        mask = input_ids.bool().float()\n",
    "\n",
    "\n",
    "        batch_emb = []\n",
    "        for batch in range(len(input_ids)):\n",
    "          embds = []\n",
    "          for word in input_ids[batch]:\n",
    "              embds.append(self.word_embedding.get_embedding(word))\n",
    "          batch_emb.append(embds)\n",
    "\n",
    "        embds_tensor = torch.FloatTensor(np.array(batch_emb)).cuda()\n",
    "\n",
    "        trans_embds = self.transform(embds_tensor)\n",
    "\n",
    "        text_vec = self.fastformer_model(trans_embds,mask)\n",
    "        score = self.dense_linear(text_vec)\n",
    "        loss = self.criterion(score, targets) \n",
    "        return loss, score"
   ]
  },
  {
   "cell_type": "markdown",
   "metadata": {
    "id": "W-FpvrNSE5Pi"
   },
   "source": [
    "### Build training and testing function"
   ]
  },
  {
   "cell_type": "code",
   "execution_count": 15,
   "metadata": {
    "id": "KoBeRa3zcbLS"
   },
   "outputs": [],
   "source": [
    "def acc(y_true, y_hat):\n",
    "    y_hat = torch.argmax(y_hat, dim=-1)\n",
    "    tot = y_true.shape[0]\n",
    "    hit = torch.sum(y_true == y_hat)\n",
    "    return hit.data.float() * 1.0 / tot"
   ]
  },
  {
   "cell_type": "code",
   "execution_count": 16,
   "metadata": {
    "id": "l1vYBgwiCi5V"
   },
   "outputs": [],
   "source": [
    "# def train(epochs, data, label, train_index, val_index):\n",
    "\n",
    "#     for epoch in range(epochs):\n",
    "        \n",
    "#         shuffle(train_index)\n",
    "#         loss = 0.0\n",
    "#         accuary = 0.0\n",
    "#         train_acc = []\n",
    "#         train_loss = []\n",
    "#         train_allpred = []\n",
    "\n",
    "#         for cnt in range(len(train_index)//64):\n",
    "\n",
    "#             log_ids = data[train_index][cnt*64:cnt*64+64,:256]\n",
    "#             targets = label[train_index][cnt*64:cnt*64+64]\n",
    "\n",
    "#             log_ids = torch.LongTensor(log_ids).cuda(non_blocking=True)\n",
    "#             targets = torch.LongTensor(targets).cuda(non_blocking=True)\n",
    "\n",
    "#             bz_loss, y_hat = model(log_ids, targets)\n",
    "#             train_allpred += y_hat.to('cpu').detach().numpy().tolist()\n",
    "\n",
    "#             loss += bz_loss.data.float()\n",
    "#             accuary += acc(targets, y_hat)\n",
    "\n",
    "#             train_loss.append(bz_loss.data.float())\n",
    "#             train_acc.append(accuary)\n",
    "\n",
    "            \n",
    "#             unified_loss=bz_loss\n",
    "\n",
    "#             optimizer.zero_grad()\n",
    "#             unified_loss.backward()\n",
    "#             optimizer.step()\n",
    "\n",
    "#             if cnt % 1000 == 0:\n",
    "#                 print( ' Ed: {}, train_loss: {:.5f}, acc: {:.5f}'.format(cnt * 64, loss.data / (cnt+1), accuary / (cnt+1)))\n",
    "\n",
    "#         y_pred_train = np.argmax(train_allpred,axis=-1)\n",
    "#         y_true_train = label[val_index]\n",
    "\n",
    "#         model.eval()\n",
    "        \n",
    "#         allpred=[]\n",
    "#         val_loss = []\n",
    "\n",
    "#         for cnt in range(len(val_index)//64+1):\n",
    "        \n",
    "#             val_log_ids=news_words[val_index][cnt*64:cnt*64+64,:256]\n",
    "#             val_targets= label[val_index][cnt*64:cnt*64+64]\n",
    "#             val_log_ids = torch.LongTensor(val_log_ids).cuda(non_blocking=True)\n",
    "#             val_targets = torch.LongTensor(val_targets).cuda(non_blocking=True)\n",
    "        \n",
    "#             bz_loss2, y_hat2 = model(val_log_ids, val_targets)\n",
    "#             val_loss.append(bz_loss2)\n",
    "#             allpred += y_hat2.to('cpu').detach().numpy().tolist()\n",
    "            \n",
    "#         y_pred = np.argmax(allpred,axis=-1)\n",
    "#         y_true = label[val_index]\n",
    "\n",
    "#         print('Epoch {} train loss'.format(epoch),sum(train_loss)/len(train_loss))\n",
    "#         print('Epoch {} val accuracy'.format(epoch),sum(train_acc)/len(train_acc))\n",
    "#         print('Epoch {} val Macro-F'.format(epoch),f1_score(y_true_train, y_pred_train ,average = 'macro'))\n",
    "\n",
    "\n",
    "#         print('Epoch {} val loss'.format(epoch),sum(val_loss)/len(val_loss))\n",
    "#         print('Epoch {} val accuracy'.format(epoch),accuracy_score(y_true, y_pred))\n",
    "#         print('Epoch {} val Macro-F'.format(epoch),f1_score(y_true, y_pred,average = 'macro'))\n",
    "        \n",
    "#         model.train()"
   ]
  },
  {
   "cell_type": "code",
   "execution_count": 17,
   "metadata": {
    "id": "Iutt0QQ3cyVP"
   },
   "outputs": [],
   "source": [
    "def train(epochs, data, label, train_index,val_index):\n",
    "\n",
    "\n",
    "    train_loss_cache = []\n",
    "    train_acc_cache = []\n",
    "    train_f1_cache = []\n",
    "\n",
    "    val_loss_cache = []\n",
    "    val_acc_cache = []\n",
    "    val_f1_cache= []\n",
    "\n",
    "    for epoch in range(epochs):\n",
    "\n",
    "        loss = 0.0\n",
    "        accuary = 0.0\n",
    "\n",
    "        train_allpred = []\n",
    "\n",
    "        np.random.shuffle(train_index) \n",
    "\n",
    "        for cnt in range(len(train_index)//64):\n",
    "\n",
    "            log_ids = data[train_index][cnt*64:cnt*64+64,:config.max_position_embeddings]\n",
    "            targets = label[train_index][cnt*64:cnt*64+64]\n",
    "\n",
    "            log_ids = torch.LongTensor(log_ids).cuda(non_blocking=True)\n",
    "            targets = torch.LongTensor(targets).cuda(non_blocking=True)\n",
    "\n",
    "            bz_loss, y_hat = model(log_ids, targets)\n",
    "            train_allpred += y_hat.to('cpu').detach().numpy().tolist()\n",
    "\n",
    "            loss += bz_loss.data.float()\n",
    "            accuary += acc(targets, y_hat)\n",
    "\n",
    "            unified_loss=bz_loss\n",
    "            optimizer.zero_grad()\n",
    "            unified_loss.backward()\n",
    "            optimizer.step()\n",
    "\n",
    "            if cnt % 200== 0:\n",
    "                print( ' Ed: {}, train_loss: {:.5f}, acc: {:.5f}'.format(cnt * 64, loss.data / (cnt+1), accuary / (cnt+1)))\n",
    "\n",
    "        y_pred_train = np.argmax(train_allpred,axis=-1)\n",
    "        y_true_train = label[train_index]  \n",
    "\n",
    "        model.eval()\n",
    "\n",
    "        allpred=[]\n",
    "        val_loss = []\n",
    "\n",
    "        for cnt in range(len(val_index)//64+1):\n",
    "        \n",
    "            log_ids = data[val_index][cnt*64:cnt*64+64,:config.max_position_embeddings]\n",
    "            targets = label[val_index][cnt*64:cnt*64+64]\n",
    "            log_ids = torch.LongTensor(log_ids).cuda(non_blocking=True)\n",
    "            targets = torch.LongTensor(targets).cuda(non_blocking=True)\n",
    "        \n",
    "            bz_loss2, y_hat2 = model(log_ids, targets)\n",
    "            val_loss.append(bz_loss2.data.float())\n",
    "            allpred+=y_hat2.to('cpu').detach().numpy().tolist()\n",
    "            \n",
    "        y_pred = np.argmax(allpred,axis=-1)\n",
    "        y_true = label[val_index]\n",
    "\n",
    "        # print(accuracy_score(y_true, y_pred))\n",
    "        print('Epoch {} val accuracy'.format(epoch),accuracy_score(y_true, y_pred))\n",
    "        print('Epoch {} val Macro-F'.format(epoch),f1_score(y_true, y_pred,average = 'macro'))\n",
    "\n",
    "        train_loss_cache.append(loss.data / (cnt+1))\n",
    "        train_acc_cache.append(accuary / (cnt+1))\n",
    "        train_f1_cache.append(f1_score(y_true_train, y_pred_train ,average = 'macro'))\n",
    "\n",
    "        val_loss_cache.append(sum(val_loss)/len(val_loss))\n",
    "        val_acc_cache.append(accuracy_score(y_true, y_pred))\n",
    "        val_f1_cache.append(f1_score(y_true, y_pred,average = 'macro'))\n",
    "\n",
    "        model.train()\n",
    "\n",
    "    cache = {'train_loss':train_loss_cache,'train_acc':train_acc_cache,'train_f1':train_f1_cache,\n",
    "             'val_loss':val_loss_cache, 'val_acc':val_acc_cache, 'val_f1':val_f1_cache}\n",
    "    return cache, model"
   ]
  },
  {
   "cell_type": "code",
   "execution_count": 18,
   "metadata": {
    "id": "6PeAj5YPQKGD"
   },
   "outputs": [],
   "source": [
    "def test(model, data, label, test_index):\n",
    "    \n",
    "    model.eval()\n",
    "    allpred = []\n",
    "    for cnt in range(len(test_index)//64+1):\n",
    "\n",
    "        log_ids = data[test_index][cnt*64:cnt*64+64,:config.max_position_embeddings]\n",
    "        targets= label[test_index][cnt*64:cnt*64+64]\n",
    "        log_ids = torch.LongTensor(log_ids).cuda(non_blocking=True)\n",
    "        targets = torch.LongTensor(targets).cuda(non_blocking=True)\n",
    "\n",
    "        bz_loss3, y_hat3 = model(log_ids, targets)\n",
    "#         allpred += y_hat3\n",
    "        allpred += y_hat3.to('cpu').detach().numpy().tolist()\n",
    "\n",
    "    y_pred = np.argmax(allpred,axis=-1)\n",
    "    y_true = label[test_index]\n",
    "\n",
    "    print('test accuracy',accuracy_score(y_true, y_pred))\n",
    "    print('test Macro-F',f1_score(y_true, y_pred,average = 'macro'))"
   ]
  },
  {
   "cell_type": "code",
   "execution_count": 19,
   "metadata": {
    "id": "groWcxIitBTR"
   },
   "outputs": [],
   "source": [
    "def plot_figure(with_param_sharing,without_param_sharing,labels,set):\n",
    "    plt.rcParams['axes.labelsize'] = 16  # xy轴label的size\n",
    "    plt.rcParams['xtick.labelsize'] = 12  # x轴ticks的size\n",
    "    plt.rcParams['ytick.labelsize'] = 14  # y轴ticks的size\n",
    "    # plt.rcParams['legend.fontsize'] = 12  # 图例的size\n",
    "\n",
    "\n",
    "    width = 0.3  # 柱形的宽度\n",
    "    x1_list = []\n",
    "    x2_list = []\n",
    "    for i in range(len(with_param_sharing)):\n",
    "        x1_list.append(i)\n",
    "        x2_list.append(i + width)\n",
    "\n",
    "\n",
    "    fig, ax1 = plt.subplots()\n",
    "\n",
    "\n",
    "    ax1.set_ylabel('Accuracy')\n",
    "    ax1.set_ylim(0, 0.6)\n",
    "    a1 = ax1.bar(x1_list, with_param_sharing, width=width, color='lightcoral', align='edge', label = 'w/ param share')\n",
    "\n",
    "    ax1.set_xticklabels(ax1.get_xticklabels()) \n",
    "    ax1.set_title('Accuracy and Macro-F on {} set'.format(set),fontsize = 14)\n",
    "\n",
    "    ax2 = ax1.twinx()\n",
    "    ax2.set_ylabel('Macro-F')\n",
    "    ax2.set_ylim(0, 0.6)\n",
    "    a2 = ax2.bar(x2_list, without_param_sharing, width=width, color='lightblue', align='edge', tick_label=labels,label = 'w/o param share ')\n",
    "\n",
    "\n",
    "    plt.legend(handles = [a1,a2])\n",
    "    plt.tight_layout()\n",
    "\n",
    "    plt.show()"
   ]
  },
  {
   "cell_type": "markdown",
   "metadata": {},
   "source": [
    "### Yelp Fine Grained"
   ]
  },
  {
   "cell_type": "code",
   "execution_count": 20,
   "metadata": {},
   "outputs": [
    {
     "data": {
      "application/vnd.jupyter.widget-view+json": {
       "model_id": "359c78f557d94b74af1d56da8b4994a4",
       "version_major": 2,
       "version_minor": 0
      },
      "text/plain": [
       "Downloading builder script:   0%|          | 0.00/4.41k [00:00<?, ?B/s]"
      ]
     },
     "metadata": {},
     "output_type": "display_data"
    },
    {
     "data": {
      "application/vnd.jupyter.widget-view+json": {
       "model_id": "e66ad1630c794ff78b54733be10c0d6d",
       "version_major": 2,
       "version_minor": 0
      },
      "text/plain": [
       "Downloading metadata:   0%|          | 0.00/2.04k [00:00<?, ?B/s]"
      ]
     },
     "metadata": {},
     "output_type": "display_data"
    },
    {
     "data": {
      "application/vnd.jupyter.widget-view+json": {
       "model_id": "f83d9fa7c034464b8b75a9a8b7ea1524",
       "version_major": 2,
       "version_minor": 0
      },
      "text/plain": [
       "Downloading readme:   0%|          | 0.00/6.57k [00:00<?, ?B/s]"
      ]
     },
     "metadata": {},
     "output_type": "display_data"
    },
    {
     "name": "stdout",
     "output_type": "stream",
     "text": [
      "Downloading and preparing dataset yelp_review_full/yelp_review_full to C:/Users/You Wang/.cache/huggingface/datasets/yelp_review_full/yelp_review_full/1.0.0/e8e18e19d7be9e75642fc66b198abadb116f73599ec89a69ba5dd8d1e57ba0bf...\n"
     ]
    },
    {
     "data": {
      "application/vnd.jupyter.widget-view+json": {
       "model_id": "249dacfc5ea149c69fb2aaa4c76441a0",
       "version_major": 2,
       "version_minor": 0
      },
      "text/plain": [
       "Downloading data:   0%|          | 0.00/196M [00:00<?, ?B/s]"
      ]
     },
     "metadata": {},
     "output_type": "display_data"
    },
    {
     "data": {
      "application/vnd.jupyter.widget-view+json": {
       "model_id": "",
       "version_major": 2,
       "version_minor": 0
      },
      "text/plain": [
       "Generating train split:   0%|          | 0/650000 [00:00<?, ? examples/s]"
      ]
     },
     "metadata": {},
     "output_type": "display_data"
    },
    {
     "data": {
      "application/vnd.jupyter.widget-view+json": {
       "model_id": "",
       "version_major": 2,
       "version_minor": 0
      },
      "text/plain": [
       "Generating test split:   0%|          | 0/50000 [00:00<?, ? examples/s]"
      ]
     },
     "metadata": {},
     "output_type": "display_data"
    },
    {
     "name": "stdout",
     "output_type": "stream",
     "text": [
      "Dataset yelp_review_full downloaded and prepared to C:/Users/You Wang/.cache/huggingface/datasets/yelp_review_full/yelp_review_full/1.0.0/e8e18e19d7be9e75642fc66b198abadb116f73599ec89a69ba5dd8d1e57ba0bf. Subsequent calls will reuse this data.\n"
     ]
    },
    {
     "data": {
      "application/vnd.jupyter.widget-view+json": {
       "model_id": "e825de4e860742559bb005d602af9740",
       "version_major": 2,
       "version_minor": 0
      },
      "text/plain": [
       "  0%|          | 0/2 [00:00<?, ?it/s]"
      ]
     },
     "metadata": {},
     "output_type": "display_data"
    }
   ],
   "source": [
    "dataset = load_dataset('yelp_review_full')"
   ]
  },
  {
   "cell_type": "code",
   "execution_count": 64,
   "metadata": {},
   "outputs": [],
   "source": [
    "text=[]\n",
    "label=[]\n",
    "for row in dataset['train']['text'][:40000]+dataset['test']['text'][:10000]:\n",
    "    text.append(wordpunct_tokenize(row.lower()))\n",
    "for row in dataset['train']['label'][:40000]+dataset['test']['label'][:10000]:\n",
    "    label.append(row)"
   ]
  },
  {
   "cell_type": "code",
   "execution_count": 55,
   "metadata": {},
   "outputs": [
    {
     "data": {
      "text/plain": [
       "700000"
      ]
     },
     "execution_count": 55,
     "metadata": {},
     "output_type": "execute_result"
    }
   ],
   "source": [
    "len(label)"
   ]
  },
  {
   "cell_type": "code",
   "execution_count": 65,
   "metadata": {},
   "outputs": [],
   "source": [
    "new_text = []\n",
    "for sample in text:\n",
    "    sample = sample[:512]\n",
    "    new_text.append(sample+['PAD']*(512-len(sample)))"
   ]
  },
  {
   "cell_type": "code",
   "execution_count": 66,
   "metadata": {},
   "outputs": [
    {
     "data": {
      "text/plain": [
       "['dr',\n",
       " '.',\n",
       " 'goldberg',\n",
       " 'offers',\n",
       " 'everything',\n",
       " 'i',\n",
       " 'look',\n",
       " 'for',\n",
       " 'in',\n",
       " 'a',\n",
       " 'general',\n",
       " 'practitioner',\n",
       " '.',\n",
       " 'he',\n",
       " \"'\",\n",
       " 's',\n",
       " 'nice',\n",
       " 'and',\n",
       " 'easy',\n",
       " 'to',\n",
       " 'talk',\n",
       " 'to',\n",
       " 'without',\n",
       " 'being',\n",
       " 'patronizing',\n",
       " ';',\n",
       " 'he',\n",
       " \"'\",\n",
       " 's',\n",
       " 'always',\n",
       " 'on',\n",
       " 'time',\n",
       " 'in',\n",
       " 'seeing',\n",
       " 'his',\n",
       " 'patients',\n",
       " ';',\n",
       " 'he',\n",
       " \"'\",\n",
       " 's',\n",
       " 'affiliated',\n",
       " 'with',\n",
       " 'a',\n",
       " 'top',\n",
       " '-',\n",
       " 'notch',\n",
       " 'hospital',\n",
       " '(',\n",
       " 'nyu',\n",
       " ')',\n",
       " 'which',\n",
       " 'my',\n",
       " 'parents',\n",
       " 'have',\n",
       " 'explained',\n",
       " 'to',\n",
       " 'me',\n",
       " 'is',\n",
       " 'very',\n",
       " 'important',\n",
       " 'in',\n",
       " 'case',\n",
       " 'something',\n",
       " 'happens',\n",
       " 'and',\n",
       " 'you',\n",
       " 'need',\n",
       " 'surgery',\n",
       " ';',\n",
       " 'and',\n",
       " 'you',\n",
       " 'can',\n",
       " 'get',\n",
       " 'referrals',\n",
       " 'to',\n",
       " 'see',\n",
       " 'specialists',\n",
       " 'without',\n",
       " 'having',\n",
       " 'to',\n",
       " 'see',\n",
       " 'him',\n",
       " 'first',\n",
       " '.',\n",
       " 'really',\n",
       " ',',\n",
       " 'what',\n",
       " 'more',\n",
       " 'do',\n",
       " 'you',\n",
       " 'need',\n",
       " '?',\n",
       " 'i',\n",
       " \"'\",\n",
       " 'm',\n",
       " 'sitting',\n",
       " 'here',\n",
       " 'trying',\n",
       " 'to',\n",
       " 'think',\n",
       " 'of',\n",
       " 'any',\n",
       " 'complaints',\n",
       " 'i',\n",
       " 'have',\n",
       " 'about',\n",
       " 'him',\n",
       " ',',\n",
       " 'but',\n",
       " 'i',\n",
       " \"'\",\n",
       " 'm',\n",
       " 'really',\n",
       " 'drawing',\n",
       " 'a',\n",
       " 'blank',\n",
       " '.',\n",
       " 'PAD',\n",
       " 'PAD',\n",
       " 'PAD',\n",
       " 'PAD',\n",
       " 'PAD',\n",
       " 'PAD',\n",
       " 'PAD',\n",
       " 'PAD',\n",
       " 'PAD',\n",
       " 'PAD',\n",
       " 'PAD',\n",
       " 'PAD',\n",
       " 'PAD',\n",
       " 'PAD',\n",
       " 'PAD',\n",
       " 'PAD',\n",
       " 'PAD',\n",
       " 'PAD',\n",
       " 'PAD',\n",
       " 'PAD',\n",
       " 'PAD',\n",
       " 'PAD',\n",
       " 'PAD',\n",
       " 'PAD',\n",
       " 'PAD',\n",
       " 'PAD',\n",
       " 'PAD',\n",
       " 'PAD',\n",
       " 'PAD',\n",
       " 'PAD',\n",
       " 'PAD',\n",
       " 'PAD',\n",
       " 'PAD',\n",
       " 'PAD',\n",
       " 'PAD',\n",
       " 'PAD',\n",
       " 'PAD',\n",
       " 'PAD',\n",
       " 'PAD',\n",
       " 'PAD',\n",
       " 'PAD',\n",
       " 'PAD',\n",
       " 'PAD',\n",
       " 'PAD',\n",
       " 'PAD',\n",
       " 'PAD',\n",
       " 'PAD',\n",
       " 'PAD',\n",
       " 'PAD',\n",
       " 'PAD',\n",
       " 'PAD',\n",
       " 'PAD',\n",
       " 'PAD',\n",
       " 'PAD',\n",
       " 'PAD',\n",
       " 'PAD',\n",
       " 'PAD',\n",
       " 'PAD',\n",
       " 'PAD',\n",
       " 'PAD',\n",
       " 'PAD',\n",
       " 'PAD',\n",
       " 'PAD',\n",
       " 'PAD',\n",
       " 'PAD',\n",
       " 'PAD',\n",
       " 'PAD',\n",
       " 'PAD',\n",
       " 'PAD',\n",
       " 'PAD',\n",
       " 'PAD',\n",
       " 'PAD',\n",
       " 'PAD',\n",
       " 'PAD',\n",
       " 'PAD',\n",
       " 'PAD',\n",
       " 'PAD',\n",
       " 'PAD',\n",
       " 'PAD',\n",
       " 'PAD',\n",
       " 'PAD',\n",
       " 'PAD',\n",
       " 'PAD',\n",
       " 'PAD',\n",
       " 'PAD',\n",
       " 'PAD',\n",
       " 'PAD',\n",
       " 'PAD',\n",
       " 'PAD',\n",
       " 'PAD',\n",
       " 'PAD',\n",
       " 'PAD',\n",
       " 'PAD',\n",
       " 'PAD',\n",
       " 'PAD',\n",
       " 'PAD',\n",
       " 'PAD',\n",
       " 'PAD',\n",
       " 'PAD',\n",
       " 'PAD',\n",
       " 'PAD',\n",
       " 'PAD',\n",
       " 'PAD',\n",
       " 'PAD',\n",
       " 'PAD',\n",
       " 'PAD',\n",
       " 'PAD',\n",
       " 'PAD',\n",
       " 'PAD',\n",
       " 'PAD',\n",
       " 'PAD',\n",
       " 'PAD',\n",
       " 'PAD',\n",
       " 'PAD',\n",
       " 'PAD',\n",
       " 'PAD',\n",
       " 'PAD',\n",
       " 'PAD',\n",
       " 'PAD',\n",
       " 'PAD',\n",
       " 'PAD',\n",
       " 'PAD',\n",
       " 'PAD',\n",
       " 'PAD',\n",
       " 'PAD',\n",
       " 'PAD',\n",
       " 'PAD',\n",
       " 'PAD',\n",
       " 'PAD',\n",
       " 'PAD',\n",
       " 'PAD',\n",
       " 'PAD',\n",
       " 'PAD',\n",
       " 'PAD',\n",
       " 'PAD',\n",
       " 'PAD',\n",
       " 'PAD',\n",
       " 'PAD',\n",
       " 'PAD',\n",
       " 'PAD',\n",
       " 'PAD',\n",
       " 'PAD',\n",
       " 'PAD',\n",
       " 'PAD',\n",
       " 'PAD',\n",
       " 'PAD',\n",
       " 'PAD',\n",
       " 'PAD',\n",
       " 'PAD',\n",
       " 'PAD',\n",
       " 'PAD',\n",
       " 'PAD',\n",
       " 'PAD',\n",
       " 'PAD',\n",
       " 'PAD',\n",
       " 'PAD',\n",
       " 'PAD',\n",
       " 'PAD',\n",
       " 'PAD',\n",
       " 'PAD',\n",
       " 'PAD',\n",
       " 'PAD',\n",
       " 'PAD',\n",
       " 'PAD',\n",
       " 'PAD',\n",
       " 'PAD',\n",
       " 'PAD',\n",
       " 'PAD',\n",
       " 'PAD',\n",
       " 'PAD',\n",
       " 'PAD',\n",
       " 'PAD',\n",
       " 'PAD',\n",
       " 'PAD',\n",
       " 'PAD',\n",
       " 'PAD',\n",
       " 'PAD',\n",
       " 'PAD',\n",
       " 'PAD',\n",
       " 'PAD',\n",
       " 'PAD',\n",
       " 'PAD',\n",
       " 'PAD',\n",
       " 'PAD',\n",
       " 'PAD',\n",
       " 'PAD',\n",
       " 'PAD',\n",
       " 'PAD',\n",
       " 'PAD',\n",
       " 'PAD',\n",
       " 'PAD',\n",
       " 'PAD',\n",
       " 'PAD',\n",
       " 'PAD',\n",
       " 'PAD',\n",
       " 'PAD',\n",
       " 'PAD',\n",
       " 'PAD',\n",
       " 'PAD',\n",
       " 'PAD',\n",
       " 'PAD',\n",
       " 'PAD',\n",
       " 'PAD',\n",
       " 'PAD',\n",
       " 'PAD',\n",
       " 'PAD',\n",
       " 'PAD',\n",
       " 'PAD',\n",
       " 'PAD',\n",
       " 'PAD',\n",
       " 'PAD',\n",
       " 'PAD',\n",
       " 'PAD',\n",
       " 'PAD',\n",
       " 'PAD',\n",
       " 'PAD',\n",
       " 'PAD',\n",
       " 'PAD',\n",
       " 'PAD',\n",
       " 'PAD',\n",
       " 'PAD',\n",
       " 'PAD',\n",
       " 'PAD',\n",
       " 'PAD',\n",
       " 'PAD',\n",
       " 'PAD',\n",
       " 'PAD',\n",
       " 'PAD',\n",
       " 'PAD',\n",
       " 'PAD',\n",
       " 'PAD',\n",
       " 'PAD',\n",
       " 'PAD',\n",
       " 'PAD',\n",
       " 'PAD',\n",
       " 'PAD',\n",
       " 'PAD',\n",
       " 'PAD',\n",
       " 'PAD',\n",
       " 'PAD',\n",
       " 'PAD',\n",
       " 'PAD',\n",
       " 'PAD',\n",
       " 'PAD',\n",
       " 'PAD',\n",
       " 'PAD',\n",
       " 'PAD',\n",
       " 'PAD',\n",
       " 'PAD',\n",
       " 'PAD',\n",
       " 'PAD',\n",
       " 'PAD',\n",
       " 'PAD',\n",
       " 'PAD',\n",
       " 'PAD',\n",
       " 'PAD',\n",
       " 'PAD',\n",
       " 'PAD',\n",
       " 'PAD',\n",
       " 'PAD',\n",
       " 'PAD',\n",
       " 'PAD',\n",
       " 'PAD',\n",
       " 'PAD',\n",
       " 'PAD',\n",
       " 'PAD',\n",
       " 'PAD',\n",
       " 'PAD',\n",
       " 'PAD',\n",
       " 'PAD',\n",
       " 'PAD',\n",
       " 'PAD',\n",
       " 'PAD',\n",
       " 'PAD',\n",
       " 'PAD',\n",
       " 'PAD',\n",
       " 'PAD',\n",
       " 'PAD',\n",
       " 'PAD',\n",
       " 'PAD',\n",
       " 'PAD',\n",
       " 'PAD',\n",
       " 'PAD',\n",
       " 'PAD',\n",
       " 'PAD',\n",
       " 'PAD',\n",
       " 'PAD',\n",
       " 'PAD',\n",
       " 'PAD',\n",
       " 'PAD',\n",
       " 'PAD',\n",
       " 'PAD',\n",
       " 'PAD',\n",
       " 'PAD',\n",
       " 'PAD',\n",
       " 'PAD',\n",
       " 'PAD',\n",
       " 'PAD',\n",
       " 'PAD',\n",
       " 'PAD',\n",
       " 'PAD',\n",
       " 'PAD',\n",
       " 'PAD',\n",
       " 'PAD',\n",
       " 'PAD',\n",
       " 'PAD',\n",
       " 'PAD',\n",
       " 'PAD',\n",
       " 'PAD',\n",
       " 'PAD',\n",
       " 'PAD',\n",
       " 'PAD',\n",
       " 'PAD',\n",
       " 'PAD',\n",
       " 'PAD',\n",
       " 'PAD',\n",
       " 'PAD',\n",
       " 'PAD',\n",
       " 'PAD',\n",
       " 'PAD',\n",
       " 'PAD',\n",
       " 'PAD',\n",
       " 'PAD',\n",
       " 'PAD',\n",
       " 'PAD',\n",
       " 'PAD',\n",
       " 'PAD',\n",
       " 'PAD',\n",
       " 'PAD',\n",
       " 'PAD',\n",
       " 'PAD',\n",
       " 'PAD',\n",
       " 'PAD',\n",
       " 'PAD',\n",
       " 'PAD',\n",
       " 'PAD',\n",
       " 'PAD',\n",
       " 'PAD',\n",
       " 'PAD',\n",
       " 'PAD',\n",
       " 'PAD',\n",
       " 'PAD',\n",
       " 'PAD',\n",
       " 'PAD',\n",
       " 'PAD',\n",
       " 'PAD',\n",
       " 'PAD',\n",
       " 'PAD',\n",
       " 'PAD',\n",
       " 'PAD',\n",
       " 'PAD',\n",
       " 'PAD',\n",
       " 'PAD',\n",
       " 'PAD',\n",
       " 'PAD',\n",
       " 'PAD',\n",
       " 'PAD',\n",
       " 'PAD',\n",
       " 'PAD',\n",
       " 'PAD',\n",
       " 'PAD',\n",
       " 'PAD',\n",
       " 'PAD',\n",
       " 'PAD',\n",
       " 'PAD',\n",
       " 'PAD',\n",
       " 'PAD',\n",
       " 'PAD',\n",
       " 'PAD',\n",
       " 'PAD',\n",
       " 'PAD',\n",
       " 'PAD',\n",
       " 'PAD',\n",
       " 'PAD',\n",
       " 'PAD',\n",
       " 'PAD',\n",
       " 'PAD',\n",
       " 'PAD',\n",
       " 'PAD',\n",
       " 'PAD',\n",
       " 'PAD',\n",
       " 'PAD',\n",
       " 'PAD',\n",
       " 'PAD',\n",
       " 'PAD',\n",
       " 'PAD',\n",
       " 'PAD',\n",
       " 'PAD',\n",
       " 'PAD',\n",
       " 'PAD',\n",
       " 'PAD',\n",
       " 'PAD',\n",
       " 'PAD',\n",
       " 'PAD',\n",
       " 'PAD']"
      ]
     },
     "execution_count": 66,
     "metadata": {},
     "output_type": "execute_result"
    }
   ],
   "source": [
    "new_text[0]"
   ]
  },
  {
   "cell_type": "code",
   "execution_count": 69,
   "metadata": {},
   "outputs": [],
   "source": [
    "new_text_index = []\n",
    "for i in range(len(new_text)):\n",
    "    new_text_index.append([word_embeddings.word_indexer.index_of(word) for word in new_text[i]])"
   ]
  },
  {
   "cell_type": "code",
   "execution_count": 74,
   "metadata": {},
   "outputs": [
    {
     "data": {
      "text/plain": [
       "512"
      ]
     },
     "execution_count": 74,
     "metadata": {},
     "output_type": "execute_result"
    }
   ],
   "source": [
    "len(new_text_index[0])"
   ]
  },
  {
   "cell_type": "code",
   "execution_count": 75,
   "metadata": {},
   "outputs": [],
   "source": [
    "for i in range(len(new_text_index)):\n",
    "    if len(new_text_index[i]) != 512:\n",
    "        print(i)"
   ]
  },
  {
   "cell_type": "code",
   "execution_count": 77,
   "metadata": {},
   "outputs": [],
   "source": [
    "data = np.array(new_text_index, dtype='int32')\n",
    "label = np.array(label, dtype='int32')"
   ]
  },
  {
   "cell_type": "code",
   "execution_count": 78,
   "metadata": {},
   "outputs": [],
   "source": [
    "np.save(\"yelp_data.npy\",data)\n",
    "np.save(\"yelp_label.npy\",label)"
   ]
  },
  {
   "cell_type": "markdown",
   "metadata": {
    "id": "9jTFpLy3EVtD"
   },
   "source": [
    "### Try Ag_news dataset as example"
   ]
  },
  {
   "cell_type": "code",
   "execution_count": null,
   "metadata": {
    "id": "lxDBfiIoQAE1"
   },
   "outputs": [],
   "source": [
    "# dataset = load_dataset('ag_news')\n",
    "\n",
    "# text=[]\n",
    "# label=[]\n",
    "# for row in dataset['train']['text']+dataset['test']['text']:\n",
    "#     text.append(wordpunct_tokenize(row.lower()))\n",
    "# for row in dataset['train']['label']+dataset['test']['label']:\n",
    "#     label.append(row)\n",
    "\n",
    "# word_dict={'PADDING':0}\n",
    "# for sent in text:    \n",
    "#     for token in sent:        \n",
    "#         if token not in word_dict:\n",
    "#             word_dict[token]=len(word_dict)\n",
    "\n",
    "# news_words = []\n",
    "# for sent in text:       \n",
    "#     sample=[]\n",
    "#     for token in sent:     \n",
    "#         sample.append(word_dict[token])\n",
    "#     sample = sample[:256]\n",
    "#     news_words.append(sample+[0]*(256-len(sample)))\n",
    "\n",
    "# news_words=np.array(news_words,dtype='int32') \n",
    "# label=np.array(label,dtype='int32') \n",
    "\n",
    "# index=np.arange(len(label))\n",
    "# train_index=index[:120000]\n",
    "# np.random.shuffle(train_index)\n",
    "# test_index=index[120000:]"
   ]
  },
  {
   "cell_type": "code",
   "execution_count": null,
   "metadata": {
    "id": "vaWLW9VVLbwF"
   },
   "outputs": [],
   "source": [
    "# word_dict"
   ]
  },
  {
   "cell_type": "code",
   "execution_count": null,
   "metadata": {
    "id": "OWVBiB7BQAHR"
   },
   "outputs": [],
   "source": [
    "# model = Model(config,outclasses = 4)\n",
    "# import torch.optim as optim\n",
    "# optimizer = optim.Adam([ {'params': model.parameters(), 'lr': 1e-3}])\n",
    "# model.cuda()"
   ]
  },
  {
   "cell_type": "code",
   "execution_count": null,
   "metadata": {
    "id": "eCqyWm82c2gx"
   },
   "outputs": [],
   "source": [
    "# for epoch in range(2):\n",
    "\n",
    "#     loss = 0.0\n",
    "#     accuary = 0.0\n",
    "    \n",
    "#     for cnt in range(len(train_index)//64):\n",
    "\n",
    "#         log_ids=news_words[train_index][cnt*64:cnt*64+64,:256]\n",
    "#         targets= label[train_index][cnt*64:cnt*64+64]\n",
    "\n",
    "#         log_ids = torch.LongTensor(log_ids).cuda(non_blocking=True)\n",
    "#         targets = torch.LongTensor(targets).cuda(non_blocking=True)\n",
    "#         bz_loss, y_hat = model(log_ids, targets)\n",
    "#         loss += bz_loss.data.float()\n",
    "#         accuary += acc(targets, y_hat)\n",
    "#         unified_loss=bz_loss\n",
    "#         optimizer.zero_grad()\n",
    "#         unified_loss.backward()\n",
    "#         optimizer.step()\n",
    "\n",
    "#         if cnt % 100== 0:\n",
    "#             print( ' Ed: {}, train_loss: {:.5f}, acc: {:.5f}'.format(cnt * 64, loss.data / (cnt+1), accuary / (cnt+1)))\n",
    "            \n",
    "#     model.eval()\n",
    "#     allpred=[]\n",
    "#     for cnt in range(len(test_index)//64+1):\n",
    "    \n",
    "#         log_ids=news_words[test_index][cnt*64:cnt*64+64,:256]\n",
    "#         targets= label[test_index][cnt*64:cnt*64+64]\n",
    "#         log_ids = torch.LongTensor(log_ids).cuda(non_blocking=True)\n",
    "#         targets = torch.LongTensor(targets).cuda(non_blocking=True)\n",
    "    \n",
    "#         bz_loss2, y_hat2 = model(log_ids, targets)\n",
    "#         allpred+=y_hat2.to('cpu').detach().numpy().tolist()\n",
    "        \n",
    "#     y_pred=np.argmax(allpred,axis=-1)\n",
    "#     y_true=label[test_index]\n",
    "\n",
    "#     print(accuracy_score(y_true, y_pred))\n",
    "#     model.train()"
   ]
  },
  {
   "cell_type": "code",
   "execution_count": null,
   "metadata": {
    "id": "qLf-gWleGuPk"
   },
   "outputs": [],
   "source": [
    "# !nvidia-smi"
   ]
  },
  {
   "cell_type": "markdown",
   "metadata": {
    "id": "5BWNXEnpEhqj"
   },
   "source": [
    "### Train and Test on Amazon Review dataset"
   ]
  },
  {
   "cell_type": "code",
   "execution_count": null,
   "metadata": {
    "id": "QuS7Jg0IHBAI"
   },
   "outputs": [],
   "source": [
    "amazon_data = np.load('amazon_review_data.npy')\n",
    "amazon_label = np.load('amazon_review_label.npy')\n",
    "amazon_number_token = int(np.load('amazon_review_num_tokens.npy'))"
   ]
  },
  {
   "cell_type": "code",
   "execution_count": null,
   "metadata": {
    "id": "WxuBxBKDCi5U"
   },
   "outputs": [],
   "source": [
    "amazon_train_index = [i for i in range(40000)]\n",
    "amazon_val_index = [i for i in range(40000,45000)]\n",
    "amazon_test_index = [i for i in range(45000,50000)]"
   ]
  },
  {
   "cell_type": "code",
   "execution_count": null,
   "metadata": {
    "id": "AbK9__IsCi5V"
   },
   "outputs": [],
   "source": [
    "model = Model(config,outclasses = 5,num_tokens=amazon_number_token)\n",
    "optimizer = optim.Adam([ {'params': model.parameters(), 'lr': 1e-3}])\n",
    "model.cuda()"
   ]
  },
  {
   "cell_type": "code",
   "execution_count": null,
   "metadata": {
    "id": "f81X9fq7nBQA"
   },
   "outputs": [],
   "source": [
    "amazon_cache,model = train(epochs = 2, \n",
    "                           data = amazon_data , \n",
    "                           label = amazon_label,\n",
    "                           train_index =  amazon_train_index,\n",
    "                           val_index = amazon_val_index)\n",
    "\n",
    "# torch.save({'metrics_cache': amazon_cache,\n",
    "#             'model_dict': model.state_dict()\n",
    "#             }, '/content/drive/MyDrive/nlp_final_project_fastformer/amazon_paramsharing={}.pt'.format(config.param_sharing))"
   ]
  },
  {
   "cell_type": "markdown",
   "metadata": {
    "id": "nhyB5oxvs3dU"
   },
   "source": [
    "#### Result for amazon review dataset"
   ]
  },
  {
   "cell_type": "markdown",
   "metadata": {
    "id": "xsNJsS2RtG3R"
   },
   "source": [
    "with parameter sharing:\n",
    "\n",
    "val acc: 0.4368\n",
    "\n",
    "val macro-F: 0.42054310427388086 \n",
    "\n",
    "\n",
    "without parameter sharing:\n",
    "\n",
    "val accuracy 0.442\n",
    "\n",
    "val Macro-F 0.4448873549402369"
   ]
  },
  {
   "cell_type": "code",
   "execution_count": null,
   "metadata": {
    "id": "DygzHryFs3dU"
   },
   "outputs": [],
   "source": [
    "# with parameter sharing:\n",
    "# val acc: 0.4368\n",
    "# val macro-F: 0.42054310427388086\n",
    "\n",
    "# without parameter sharing:\n",
    "# val accuracy 0.442\n",
    "# val Macro-F 0.4448873549402369"
   ]
  },
  {
   "cell_type": "code",
   "execution_count": null,
   "metadata": {
    "id": "cVMf-ZzVs3dU"
   },
   "outputs": [],
   "source": [
    "with_param_sharing = [0.4368,0.42054310427388086]\n",
    "without_param_sharing = [0.442,0.444873549402369] \n",
    "labels =['Accuracy', 'Macro-F']\n",
    "\n",
    "plot_figure(with_param_sharing,without_param_sharing,labels,set = 'validation')"
   ]
  },
  {
   "cell_type": "code",
   "execution_count": null,
   "metadata": {
    "id": "fW2WyEmJs3dV"
   },
   "outputs": [],
   "source": [
    "test(model, amazon_data, amazon_label, amazon_test_index)"
   ]
  },
  {
   "cell_type": "markdown",
   "metadata": {
    "id": "Ay1H2uqRtYBu"
   },
   "source": [
    "with parameter sharing:\n",
    "\n",
    "test acc: 0.4318\n",
    "\n",
    "test macro-F: 0.41902546679396446\n",
    "\n",
    "without parameter sharing:\n",
    "\n",
    "test acc: 0.4346\n",
    "\n",
    "test macro-F:0.43726128296759664"
   ]
  },
  {
   "cell_type": "code",
   "execution_count": null,
   "metadata": {
    "id": "HwRcLOeBs3dV"
   },
   "outputs": [],
   "source": [
    "# with parameter sharing:\n",
    "# test acc: 0.4318\n",
    "# test macro-F: 0.41902546679396446\n",
    "\n",
    "# without parameter sharing:\n",
    "# test acc: 0.4346\n",
    "# test macro-F:0.43726128296759664"
   ]
  },
  {
   "cell_type": "code",
   "execution_count": null,
   "metadata": {
    "id": "feRGZCY0s3dV"
   },
   "outputs": [],
   "source": [
    "test_with = [0.4318,0.41902546679396446]\n",
    "test_without = [0.4346,0.43726128296759664]\n",
    "plot_figure(test_with,test_without,labels,'test')"
   ]
  },
  {
   "cell_type": "code",
   "execution_count": null,
   "metadata": {
    "id": "TgZ8G95zFvxp"
   },
   "outputs": [],
   "source": [
    "# for epoch in range(2):\n",
    "\n",
    "#     loss = 0.0\n",
    "#     accuary = 0.0\n",
    "#     shuffle(amazon_train_index) \n",
    "#     # np.random.shuffle(amazon_train_index) \n",
    "\n",
    "#     for cnt in range(len(amazon_train_index)//64):\n",
    "\n",
    "#         log_ids=amazon_data[amazon_train_index][cnt*64:cnt*64+64,:config.max_position_embeddings]\n",
    "#         targets= amazon_label[amazon_train_index][cnt*64:cnt*64+64]\n",
    "\n",
    "#         log_ids = torch.LongTensor(log_ids).cuda(non_blocking=True)\n",
    "#         targets = torch.LongTensor(targets).cuda(non_blocking=True)\n",
    "\n",
    "#         bz_loss, y_hat = model(log_ids, targets)\n",
    "\n",
    "#         loss += bz_loss.data.float()\n",
    "#         accuary += acc(targets, y_hat)\n",
    "\n",
    "#         unified_loss=bz_loss\n",
    "#         optimizer.zero_grad()\n",
    "#         unified_loss.backward()\n",
    "#         optimizer.step()\n",
    "\n",
    "#         if cnt % 200 == 0:\n",
    "#             print( ' Ed: {}, train_loss: {:.5f}, acc: {:.5f}'.format(cnt * 64, loss.data / (cnt+1), accuary / (cnt+1)))\n",
    "            \n",
    "#     model.eval()\n",
    "#     allpred=[]\n",
    "#     for cnt in range(len(amazon_val_index)//64+1):\n",
    "    \n",
    "#         log_ids = amazon_data[amazon_val_index][cnt*64:cnt*64+64,:config.max_position_embeddings]\n",
    "#         targets = amazon_label[amazon_val_index][cnt*64:cnt*64+64]\n",
    "#         log_ids = torch.LongTensor(log_ids).cuda(non_blocking=True)\n",
    "#         targets = torch.LongTensor(targets).cuda(non_blocking=True)\n",
    "    \n",
    "#         bz_loss2, y_hat2 = model(log_ids, targets)\n",
    "#         allpred+=y_hat2.to('cpu').detach().numpy().tolist()\n",
    "        \n",
    "#     y_pred = np.argmax(allpred,axis=-1)\n",
    "#     y_true = amazon_label[amazon_val_index]\n",
    "\n",
    "#     print(accuracy_score(y_true, y_pred))\n",
    "#     print(f1_score(y_true, y_pred,average = 'macro'))\n",
    "#     model.train()"
   ]
  },
  {
   "cell_type": "markdown",
   "metadata": {
    "id": "yNJu4du2iiEH"
   },
   "source": [
    "### Train and test on IMDB review data"
   ]
  },
  {
   "cell_type": "code",
   "execution_count": null,
   "metadata": {
    "id": "5RcKk5c8ioJ-"
   },
   "outputs": [],
   "source": [
    "imdb_data = np.load('imdb_data.npy')\n",
    "imdb_label = np.load('imdb_label.npy')\n",
    "imdb_label = imdb_label - 1\n",
    "imdb_number_token = int(np.load('imdb_num_tokens.npy'))"
   ]
  },
  {
   "cell_type": "code",
   "execution_count": null,
   "metadata": {
    "id": "16raPkCkjb2s"
   },
   "outputs": [],
   "source": [
    "imdb_train_index = [i for i in range(108544)]\n",
    "imdb_val_index = [i for i in range(108544,122106)]\n",
    "imdb_test_index = [i for i in range(122106,135669)]"
   ]
  },
  {
   "cell_type": "code",
   "execution_count": null,
   "metadata": {
    "id": "bAGLPwNXjflf",
    "outputId": "ba84bae0-a4ab-4a64-e4e5-8e62fb79aada"
   },
   "outputs": [
    {
     "data": {
      "text/plain": [
       "Model(\n",
       "  (word_embedding): Embedding(1008551, 128, padding_idx=0)\n",
       "  (fastformer_model): FastformerEncoder(\n",
       "    (encoders): ModuleList(\n",
       "      (0): FastformerLayer(\n",
       "        (attention): FastAttention(\n",
       "          (self): AdditiveAttention(\n",
       "            (query): Linear(in_features=128, out_features=128, bias=True)\n",
       "            (query_att): Linear(in_features=128, out_features=8, bias=True)\n",
       "            (key): Linear(in_features=128, out_features=128, bias=True)\n",
       "            (key_att): Linear(in_features=128, out_features=8, bias=True)\n",
       "            (value): Linear(in_features=128, out_features=128, bias=True)\n",
       "            (transform): Linear(in_features=128, out_features=128, bias=True)\n",
       "            (softmax): Softmax(dim=-1)\n",
       "          )\n",
       "          (output): BertSelfOutput(\n",
       "            (dense): Linear(in_features=128, out_features=128, bias=True)\n",
       "            (LayerNorm): LayerNorm((128,), eps=1e-12, elementwise_affine=True)\n",
       "            (dropout): Dropout(p=0.3, inplace=False)\n",
       "          )\n",
       "        )\n",
       "        (intermediate): BertIntermediate(\n",
       "          (dense): Linear(in_features=128, out_features=128, bias=True)\n",
       "          (intermediate_act_fn): GELUActivation()\n",
       "        )\n",
       "        (output): BertOutput(\n",
       "          (dense): Linear(in_features=128, out_features=128, bias=True)\n",
       "          (LayerNorm): LayerNorm((128,), eps=1e-12, elementwise_affine=True)\n",
       "          (dropout): Dropout(p=0.3, inplace=False)\n",
       "        )\n",
       "      )\n",
       "      (1): FastformerLayer(\n",
       "        (attention): FastAttention(\n",
       "          (self): AdditiveAttention(\n",
       "            (query): Linear(in_features=128, out_features=128, bias=True)\n",
       "            (query_att): Linear(in_features=128, out_features=8, bias=True)\n",
       "            (key): Linear(in_features=128, out_features=128, bias=True)\n",
       "            (key_att): Linear(in_features=128, out_features=8, bias=True)\n",
       "            (value): Linear(in_features=128, out_features=128, bias=True)\n",
       "            (transform): Linear(in_features=128, out_features=128, bias=True)\n",
       "            (softmax): Softmax(dim=-1)\n",
       "          )\n",
       "          (output): BertSelfOutput(\n",
       "            (dense): Linear(in_features=128, out_features=128, bias=True)\n",
       "            (LayerNorm): LayerNorm((128,), eps=1e-12, elementwise_affine=True)\n",
       "            (dropout): Dropout(p=0.3, inplace=False)\n",
       "          )\n",
       "        )\n",
       "        (intermediate): BertIntermediate(\n",
       "          (dense): Linear(in_features=128, out_features=128, bias=True)\n",
       "          (intermediate_act_fn): GELUActivation()\n",
       "        )\n",
       "        (output): BertOutput(\n",
       "          (dense): Linear(in_features=128, out_features=128, bias=True)\n",
       "          (LayerNorm): LayerNorm((128,), eps=1e-12, elementwise_affine=True)\n",
       "          (dropout): Dropout(p=0.3, inplace=False)\n",
       "        )\n",
       "      )\n",
       "    )\n",
       "    (position_embeddings): Embedding(512, 128)\n",
       "    (LayerNorm): LayerNorm((128,), eps=1e-12, elementwise_affine=True)\n",
       "    (dropout): Dropout(p=0.3, inplace=False)\n",
       "    (poolers): ModuleList(\n",
       "      (0): AttentionPooling(\n",
       "        (att_fc1): Linear(in_features=128, out_features=128, bias=True)\n",
       "        (att_fc2): Linear(in_features=128, out_features=1, bias=True)\n",
       "      )\n",
       "    )\n",
       "  )\n",
       "  (dense_linear): Linear(in_features=128, out_features=10, bias=True)\n",
       "  (criterion): CrossEntropyLoss()\n",
       ")"
      ]
     },
     "execution_count": 29,
     "metadata": {},
     "output_type": "execute_result"
    }
   ],
   "source": [
    "model = Model(config, outclasses = 10, num_tokens=imdb_number_token)\n",
    "optimizer = optim.Adam([ {'params': model.parameters(), 'lr': 1e-3}])\n",
    "model.cuda()"
   ]
  },
  {
   "cell_type": "code",
   "execution_count": null,
   "metadata": {
    "id": "X2cbSe0tjkt4"
   },
   "outputs": [],
   "source": [
    "imdb_cache,model = train(epochs = 2, \n",
    "                           data = imdb_data , \n",
    "                           label = imdb_label,\n",
    "                           train_index =  imdb_train_index,\n",
    "                           val_index = imdb_val_index)"
   ]
  },
  {
   "cell_type": "markdown",
   "metadata": {
    "id": "f0liXmpZBQLm"
   },
   "source": [
    "#### Result for IMDB review dataset"
   ]
  },
  {
   "cell_type": "markdown",
   "metadata": {
    "id": "nxZNPesyBUOT"
   },
   "source": [
    "with parameter sharing:\n",
    "\n",
    "val acc: 0.5287568205279457\n",
    "\n",
    "val macro-F: 0.3128399757796875\n",
    "\n",
    "without parameter sharing:\n",
    "\n",
    "val accuracy 0.5306739418964754\n",
    "\n",
    "val Macro-F 0.300849803976839"
   ]
  },
  {
   "cell_type": "code",
   "execution_count": null,
   "metadata": {
    "id": "-MyEqU-fBeM7"
   },
   "outputs": [],
   "source": [
    "with_param_sharing = [0.5287568205279457, 0.3128399757796875]\n",
    "without_param_sharing = [0.5306739418964754, 0.300849803976839] \n",
    "labels =['Accuracy', 'Macro-F']\n",
    "\n",
    "plot_figure(with_param_sharing,without_param_sharing,labels,set = 'validation')"
   ]
  },
  {
   "cell_type": "code",
   "execution_count": null,
   "metadata": {
    "id": "bE-5wKJmBu0F"
   },
   "outputs": [],
   "source": [
    "test(model, imdb_data, imdb_label, imdb_test_index)"
   ]
  },
  {
   "cell_type": "markdown",
   "metadata": {
    "id": "A3CQRHK8BkRi"
   },
   "source": [
    "with parameter sharing:\n",
    "\n",
    "test acc: 0.3290569932905699\n",
    "\n",
    "test macro-F: 0.2749917473290363\n",
    "\n",
    "without parameter sharing:\n",
    "\n",
    "test acc: 0.32573914325739145\n",
    "\n",
    "test macro-F:0.2660609692557747"
   ]
  },
  {
   "cell_type": "code",
   "execution_count": null,
   "metadata": {
    "id": "YF9Z7jR-BkqQ"
   },
   "outputs": [],
   "source": [
    "test_with = [ 0.3290569932905699, 0.2749917473290363]\n",
    "test_without = [ 0.32573914325739145, 0.2660609692557747]\n",
    "plot_figure(test_with,test_without,labels,'test')"
   ]
  },
  {
   "cell_type": "markdown",
   "metadata": {
    "id": "Nzyf6fg7RdUt"
   },
   "source": [
    "### Try models with pretrained word embedding"
   ]
  },
  {
   "cell_type": "markdown",
   "metadata": {
    "id": "0G9OnJ5BT6Q2"
   },
   "source": [
    "#### Data and Train"
   ]
  },
  {
   "cell_type": "code",
   "execution_count": null,
   "metadata": {
    "id": "lb1rGQ3y1hy9"
   },
   "outputs": [],
   "source": [
    "# class Model(torch.nn.Module):\n",
    "\n",
    "#     def __init__(self,config,outclasses,num_tokens):\n",
    "#         super(Model, self).__init__()\n",
    "#         self.config = config\n",
    "#         self.word_embedding = nn.Embedding(num_tokens,config.hidden_size,padding_idx=0)\n",
    "#         self.fastformer_model = FastformerEncoder(config)\n",
    "#         self.dense_linear = nn.Linear(config.hidden_size,outclasses)\n",
    "#         self.criterion = nn.CrossEntropyLoss() \n",
    "#         self.apply(self.init_weights)\n",
    "        \n",
    "#     def init_weights(self, module):\n",
    "#         if isinstance(module, (nn.Linear, nn.Embedding)):\n",
    "#             module.weight.data.normal_(mean=0.0, std=self.config.initializer_range)\n",
    "#             if isinstance(module, (nn.Embedding)) and module.padding_idx is not None:\n",
    "#                 with torch.no_grad():\n",
    "#                     module.weight[module.padding_idx].fill_(0)\n",
    "#         if isinstance(module, nn.Linear) and module.bias is not None:\n",
    "#             module.bias.data.zero_()\n",
    "    \n",
    "#     def forward(self,input_ids,targets):\n",
    "#         mask=input_ids.bool().float()\n",
    "#         embds=self.word_embedding(input_ids)\n",
    "#         text_vec = self.fastformer_model(embds,mask)\n",
    "#         score = self.dense_linear(text_vec)\n",
    "#         loss = self.criterion(score, targets) \n",
    "#         return loss, score"
   ]
  },
  {
   "cell_type": "code",
   "execution_count": null,
   "metadata": {
    "id": "qdqMIBROVEpJ"
   },
   "outputs": [],
   "source": [
    "# class Model_pretrained_emb(torch.nn.Module):\n",
    "\n",
    "#     def __init__(self,config,outclasses,embeddings: word_embeddings ):\n",
    "#         super(Model_pretrained_emb, self).__init__()\n",
    "#         self.config = config\n",
    "#         # self.word_embedding = nn.Embedding(num_tokens,config.hidden_size,padding_idx=0)\n",
    "#         self.word_embedding = embeddings\n",
    "#         self.transform = nn.Linear(50,config.hidden_size)\n",
    "#         self.fastformer_model = FastformerEncoder(config)\n",
    "#         self.dense_linear = nn.Linear(config.hidden_size,outclasses)\n",
    "#         self.criterion = nn.CrossEntropyLoss() \n",
    "#         self.apply(self.init_weights)\n",
    "        \n",
    "#     def init_weights(self, module):\n",
    "#         if isinstance(module, (nn.Linear, nn.Embedding)):\n",
    "#             module.weight.data.normal_(mean=0.0, std=self.config.initializer_range)\n",
    "#             if isinstance(module, (nn.Embedding)) and module.padding_idx is not None:\n",
    "#                 with torch.no_grad():\n",
    "#                     module.weight[module.padding_idx].fill_(0)\n",
    "#         if isinstance(module, nn.Linear) and module.bias is not None:\n",
    "#             module.bias.data.zero_()\n",
    "    \n",
    "#     def forward(self,input_ids,targets):\n",
    "\n",
    "        \n",
    "#         mask = input_ids.bool().float()\n",
    "\n",
    "\n",
    "#         batch_emb = []\n",
    "#         for batch in range(len(input_ids)):\n",
    "#           embds = []\n",
    "#           for word in input_ids[batch]:\n",
    "#               embds.append(word_embeddings.get_embedding(word))\n",
    "#           batch_emb.append(embds)\n",
    "\n",
    "#         embds_tensor = torch.FloatTensor(np.array(batch_emb)).cuda()\n",
    "\n",
    "#         trans_embds = self.transform(embds_tensor)\n",
    "\n",
    "#         text_vec = self.fastformer_model(trans_embds,mask)\n",
    "#         score = self.dense_linear(text_vec)\n",
    "#         loss = self.criterion(score, targets) \n",
    "#         return loss, score"
   ]
  },
  {
   "cell_type": "code",
   "execution_count": null,
   "metadata": {
    "id": "wqQT5JeCOWjx"
   },
   "outputs": [],
   "source": [
    "# word_embeddings.word_indexer.index_of('word')\n",
    "# input_ids= [word_embeddings.word_indexer.index_of(word) for word in ex_words]\n",
    "# len(word_embeddings.word_indexer)"
   ]
  },
  {
   "cell_type": "code",
   "execution_count": 38,
   "metadata": {
    "id": "KWLV82ycC1db"
   },
   "outputs": [],
   "source": [
    "amazon_data_new = np.load('amazon_review_data_new_index.npy')\n",
    "amazon_label_new = np.load('amazon_review_label_new_index.npy')\n",
    "\n",
    "amazon_train_index = [i for i in range(40000)]\n",
    "amazon_val_index = [i for i in range(40000,45000)]\n",
    "amazon_test_index = [i for i in range(45000,50000)]"
   ]
  },
  {
   "cell_type": "code",
   "execution_count": 124,
   "metadata": {
    "id": "lO8C7yWKIyz0"
   },
   "outputs": [],
   "source": [
    "def train(model,epochs, data, label, train_index,val_index):\n",
    "\n",
    "\n",
    "    train_loss_cache = []\n",
    "    train_acc_cache = []\n",
    "    train_f1_cache = []\n",
    "\n",
    "    val_loss_cache = []\n",
    "    val_acc_cache = []\n",
    "    val_f1_cache= []\n",
    "\n",
    "    for epoch in range(epochs):\n",
    "\n",
    "        loss = 0.0\n",
    "        accuary = 0.0\n",
    "\n",
    "        train_allpred = []\n",
    "\n",
    "        np.random.shuffle(train_index) \n",
    "\n",
    "        for cnt in range(len(train_index)//64):\n",
    "\n",
    "            log_ids = data[train_index][cnt*64:cnt*64+64,:config.max_position_embeddings]\n",
    "            targets = label[train_index][cnt*64:cnt*64+64]\n",
    "\n",
    "            log_ids = torch.LongTensor(log_ids).cuda(non_blocking=True)\n",
    "            targets = torch.LongTensor(targets).cuda(non_blocking=True)\n",
    "\n",
    "            bz_loss, y_hat = model(log_ids, targets)\n",
    "            train_allpred += y_hat.to('cpu').detach().numpy().tolist()\n",
    "\n",
    "            loss += bz_loss.data.float()\n",
    "            accuary += acc(targets, y_hat)\n",
    "\n",
    "            unified_loss=bz_loss\n",
    "            optimizer.zero_grad()\n",
    "            unified_loss.backward()\n",
    "            optimizer.step()\n",
    "\n",
    "            if cnt % 200== 0:\n",
    "                print( ' Ed: {}, train_loss: {:.5f}, acc: {:.5f}'.format(cnt * 64, loss.data / (cnt+1), accuary / (cnt+1)))\n",
    "\n",
    "        y_pred_train = np.argmax(train_allpred,axis=-1)\n",
    "        y_true_train = label[train_index]  \n",
    "\n",
    "        model.eval()\n",
    "\n",
    "        allpred=[]\n",
    "        val_loss = []\n",
    "\n",
    "        for cnt in range(len(val_index)//64+1):\n",
    "        \n",
    "            log_ids = data[val_index][cnt*64:cnt*64+64,:config.max_position_embeddings]\n",
    "            targets = label[val_index][cnt*64:cnt*64+64]\n",
    "            log_ids = torch.LongTensor(log_ids).cuda(non_blocking=True)\n",
    "            targets = torch.LongTensor(targets).cuda(non_blocking=True)\n",
    "        \n",
    "            bz_loss2, y_hat2 = model(log_ids, targets)\n",
    "            val_loss.append(bz_loss2.data.float())\n",
    "            allpred+=y_hat2.to('cpu').detach().numpy().tolist()\n",
    "            \n",
    "        y_pred = np.argmax(allpred,axis=-1)\n",
    "        y_true = label[val_index]\n",
    "\n",
    "        # print(accuracy_score(y_true, y_pred))\n",
    "        print('Epoch {} val accuracy'.format(epoch),accuracy_score(y_true, y_pred))\n",
    "        print('Epoch {} val Macro-F'.format(epoch),f1_score(y_true, y_pred,average = 'macro'))\n",
    "\n",
    "        train_loss_cache.append(loss.data / (cnt+1))\n",
    "        train_acc_cache.append(accuary / (cnt+1))\n",
    "        train_f1_cache.append(f1_score(y_true_train, y_pred_train ,average = 'macro'))\n",
    "\n",
    "        val_loss_cache.append(sum(val_loss)/len(val_loss))\n",
    "        val_acc_cache.append(accuracy_score(y_true, y_pred))\n",
    "        val_f1_cache.append(f1_score(y_true, y_pred,average = 'macro'))\n",
    "\n",
    "        model.train()\n",
    "\n",
    "    cache = {'train_loss':train_loss_cache,'train_acc':train_acc_cache,'train_f1':train_f1_cache,\n",
    "             'val_loss':val_loss_cache, 'val_acc':val_acc_cache, 'val_f1':val_f1_cache}\n",
    "    return cache, model"
   ]
  },
  {
   "cell_type": "markdown",
   "metadata": {
    "id": "zmGnF4uLIWKS"
   },
   "source": [
    "#### Train and Validation Results for Amazon dataset using 50-300 dimension glove "
   ]
  },
  {
   "cell_type": "code",
   "execution_count": null,
   "metadata": {
    "colab": {
     "base_uri": "https://localhost:8080/"
    },
    "id": "otS-SUm7JMXA",
    "outputId": "ecaf7bd4-99cb-4f56-a2ad-64ab0a23d8bd"
   },
   "outputs": [
    {
     "data": {
      "text/plain": [
       "Model_pretrained_emb(\n",
       "  (transform): Linear(in_features=50, out_features=256, bias=True)\n",
       "  (fastformer_model): FastformerEncoder(\n",
       "    (encoders): ModuleList(\n",
       "      (0): FastformerLayer(\n",
       "        (attention): FastAttention(\n",
       "          (self): AdditiveAttention(\n",
       "            (query): Linear(in_features=256, out_features=256, bias=True)\n",
       "            (query_att): Linear(in_features=256, out_features=16, bias=True)\n",
       "            (key): Linear(in_features=256, out_features=256, bias=True)\n",
       "            (key_att): Linear(in_features=256, out_features=16, bias=True)\n",
       "            (value): Linear(in_features=256, out_features=256, bias=True)\n",
       "            (transform): Linear(in_features=256, out_features=256, bias=True)\n",
       "            (softmax): Softmax(dim=-1)\n",
       "          )\n",
       "          (output): BertSelfOutput(\n",
       "            (dense): Linear(in_features=256, out_features=256, bias=True)\n",
       "            (LayerNorm): LayerNorm((256,), eps=1e-12, elementwise_affine=True)\n",
       "            (dropout): Dropout(p=0.2, inplace=False)\n",
       "          )\n",
       "        )\n",
       "        (intermediate): BertIntermediate(\n",
       "          (dense): Linear(in_features=256, out_features=256, bias=True)\n",
       "          (intermediate_act_fn): GELUActivation()\n",
       "        )\n",
       "        (output): BertOutput(\n",
       "          (dense): Linear(in_features=256, out_features=256, bias=True)\n",
       "          (LayerNorm): LayerNorm((256,), eps=1e-12, elementwise_affine=True)\n",
       "          (dropout): Dropout(p=0.2, inplace=False)\n",
       "        )\n",
       "      )\n",
       "      (1): FastformerLayer(\n",
       "        (attention): FastAttention(\n",
       "          (self): AdditiveAttention(\n",
       "            (query): Linear(in_features=256, out_features=256, bias=True)\n",
       "            (query_att): Linear(in_features=256, out_features=16, bias=True)\n",
       "            (key): Linear(in_features=256, out_features=256, bias=True)\n",
       "            (key_att): Linear(in_features=256, out_features=16, bias=True)\n",
       "            (value): Linear(in_features=256, out_features=256, bias=True)\n",
       "            (transform): Linear(in_features=256, out_features=256, bias=True)\n",
       "            (softmax): Softmax(dim=-1)\n",
       "          )\n",
       "          (output): BertSelfOutput(\n",
       "            (dense): Linear(in_features=256, out_features=256, bias=True)\n",
       "            (LayerNorm): LayerNorm((256,), eps=1e-12, elementwise_affine=True)\n",
       "            (dropout): Dropout(p=0.2, inplace=False)\n",
       "          )\n",
       "        )\n",
       "        (intermediate): BertIntermediate(\n",
       "          (dense): Linear(in_features=256, out_features=256, bias=True)\n",
       "          (intermediate_act_fn): GELUActivation()\n",
       "        )\n",
       "        (output): BertOutput(\n",
       "          (dense): Linear(in_features=256, out_features=256, bias=True)\n",
       "          (LayerNorm): LayerNorm((256,), eps=1e-12, elementwise_affine=True)\n",
       "          (dropout): Dropout(p=0.2, inplace=False)\n",
       "        )\n",
       "      )\n",
       "    )\n",
       "    (position_embeddings): Embedding(512, 256)\n",
       "    (LayerNorm): LayerNorm((256,), eps=1e-12, elementwise_affine=True)\n",
       "    (dropout): Dropout(p=0.2, inplace=False)\n",
       "    (poolers): ModuleList(\n",
       "      (0): AttentionPooling(\n",
       "        (att_fc1): Linear(in_features=256, out_features=256, bias=True)\n",
       "        (att_fc2): Linear(in_features=256, out_features=1, bias=True)\n",
       "      )\n",
       "    )\n",
       "  )\n",
       "  (dense_linear): Linear(in_features=256, out_features=5, bias=True)\n",
       "  (criterion): CrossEntropyLoss()\n",
       ")"
      ]
     },
     "execution_count": 50,
     "metadata": {},
     "output_type": "execute_result"
    }
   ],
   "source": [
    "pretrained_emb_dim = 50\n",
    "model_50d = Model_pretrained_emb(config,outclasses = 5,embeddings = word_embeddings,pretrained_emb_dim = pretrained_emb_dim)\n",
    "optimizer = optim.Adam([ {'params': model_50d.parameters(), 'lr': 1e-3}])\n",
    "model_50d.cuda()"
   ]
  },
  {
   "cell_type": "code",
   "execution_count": null,
   "metadata": {
    "colab": {
     "base_uri": "https://localhost:8080/"
    },
    "id": "jvYVWpjPJnYz",
    "outputId": "33fb18da-c8f9-4fc1-b33e-527a081a8fe3"
   },
   "outputs": [
    {
     "name": "stdout",
     "output_type": "stream",
     "text": [
      " Ed: 0, train_loss: 1.62193, acc: 0.20312\n",
      " Ed: 12800, train_loss: 1.47836, acc: 0.32774\n",
      " Ed: 25600, train_loss: 1.44490, acc: 0.34784\n",
      " Ed: 38400, train_loss: 1.42488, acc: 0.35927\n",
      "Epoch 0 val accuracy 0.3944\n",
      "Epoch 0 val Macro-F 0.3650302795996608\n",
      " Ed: 0, train_loss: 1.29977, acc: 0.39062\n",
      " Ed: 12800, train_loss: 1.35630, acc: 0.40104\n",
      " Ed: 25600, train_loss: 1.34524, acc: 0.40820\n",
      " Ed: 38400, train_loss: 1.34057, acc: 0.41036\n",
      "Epoch 1 val accuracy 0.4028\n",
      "Epoch 1 val Macro-F 0.3670376990575944\n",
      " Ed: 0, train_loss: 1.25017, acc: 0.43750\n",
      " Ed: 12800, train_loss: 1.29669, acc: 0.42382\n",
      " Ed: 25600, train_loss: 1.28806, acc: 0.42947\n",
      " Ed: 38400, train_loss: 1.28784, acc: 0.43152\n",
      "Epoch 2 val accuracy 0.417\n",
      "Epoch 2 val Macro-F 0.378466553811226\n",
      " Ed: 0, train_loss: 1.13393, acc: 0.62500\n",
      " Ed: 12800, train_loss: 1.24574, acc: 0.45826\n",
      " Ed: 25600, train_loss: 1.24481, acc: 0.45484\n",
      " Ed: 38400, train_loss: 1.24877, acc: 0.45466\n",
      "Epoch 3 val accuracy 0.4196\n",
      "Epoch 3 val Macro-F 0.40424968374868187\n",
      " Ed: 0, train_loss: 1.23182, acc: 0.46875\n",
      " Ed: 12800, train_loss: 1.22861, acc: 0.45818\n",
      " Ed: 25600, train_loss: 1.22365, acc: 0.46442\n",
      " Ed: 38400, train_loss: 1.22467, acc: 0.46521\n",
      "Epoch 4 val accuracy 0.4254\n",
      "Epoch 4 val Macro-F 0.4114999892330128\n"
     ]
    }
   ],
   "source": [
    "amazon_cache_50d,model_50d_res = train(model = model_50d, \n",
    "                                       epochs = 5, \n",
    "                                      data = amazon_data_new , \n",
    "                                      label = amazon_label_new,\n",
    "                                      train_index =  amazon_train_index,\n",
    "                                      val_index = amazon_val_index)\n",
    "\n",
    "torch.save({'metrics_cache': amazon_cache_50d,\n",
    "            'model_dict': model_50d_res.state_dict()\n",
    "            }, '/content/drive/MyDrive/nlp_final_project_fastformer/amazon_glove50d_paramsharing={}.pt'.format(config.param_sharing))"
   ]
  },
  {
   "cell_type": "markdown",
   "metadata": {
    "id": "vgPTRESaw1kT"
   },
   "source": [
    "glove50d (with paramsharing):\n",
    "\n",
    "val acc: 0.4254\n",
    "\n",
    "val macro-F: 0.4114999892330128\n",
    "\n"
   ]
  },
  {
   "cell_type": "code",
   "execution_count": 53,
   "metadata": {
    "id": "D0mQrKHi2QNN"
   },
   "outputs": [],
   "source": [
    "glove_50d_val = [0.4254, 0.4114999892330128]"
   ]
  },
  {
   "cell_type": "code",
   "execution_count": null,
   "metadata": {
    "colab": {
     "base_uri": "https://localhost:8080/"
    },
    "id": "X7udmAank3Ro",
    "outputId": "913f6e22-9cfb-45f6-f749-44137642d4fe"
   },
   "outputs": [
    {
     "data": {
      "text/plain": [
       "Model_pretrained_emb(\n",
       "  (transform): Linear(in_features=100, out_features=256, bias=True)\n",
       "  (fastformer_model): FastformerEncoder(\n",
       "    (encoders): ModuleList(\n",
       "      (0): FastformerLayer(\n",
       "        (attention): FastAttention(\n",
       "          (self): AdditiveAttention(\n",
       "            (query): Linear(in_features=256, out_features=256, bias=True)\n",
       "            (query_att): Linear(in_features=256, out_features=16, bias=True)\n",
       "            (key): Linear(in_features=256, out_features=256, bias=True)\n",
       "            (key_att): Linear(in_features=256, out_features=16, bias=True)\n",
       "            (value): Linear(in_features=256, out_features=256, bias=True)\n",
       "            (transform): Linear(in_features=256, out_features=256, bias=True)\n",
       "            (softmax): Softmax(dim=-1)\n",
       "          )\n",
       "          (output): BertSelfOutput(\n",
       "            (dense): Linear(in_features=256, out_features=256, bias=True)\n",
       "            (LayerNorm): LayerNorm((256,), eps=1e-12, elementwise_affine=True)\n",
       "            (dropout): Dropout(p=0.2, inplace=False)\n",
       "          )\n",
       "        )\n",
       "        (intermediate): BertIntermediate(\n",
       "          (dense): Linear(in_features=256, out_features=256, bias=True)\n",
       "          (intermediate_act_fn): GELUActivation()\n",
       "        )\n",
       "        (output): BertOutput(\n",
       "          (dense): Linear(in_features=256, out_features=256, bias=True)\n",
       "          (LayerNorm): LayerNorm((256,), eps=1e-12, elementwise_affine=True)\n",
       "          (dropout): Dropout(p=0.2, inplace=False)\n",
       "        )\n",
       "      )\n",
       "      (1): FastformerLayer(\n",
       "        (attention): FastAttention(\n",
       "          (self): AdditiveAttention(\n",
       "            (query): Linear(in_features=256, out_features=256, bias=True)\n",
       "            (query_att): Linear(in_features=256, out_features=16, bias=True)\n",
       "            (key): Linear(in_features=256, out_features=256, bias=True)\n",
       "            (key_att): Linear(in_features=256, out_features=16, bias=True)\n",
       "            (value): Linear(in_features=256, out_features=256, bias=True)\n",
       "            (transform): Linear(in_features=256, out_features=256, bias=True)\n",
       "            (softmax): Softmax(dim=-1)\n",
       "          )\n",
       "          (output): BertSelfOutput(\n",
       "            (dense): Linear(in_features=256, out_features=256, bias=True)\n",
       "            (LayerNorm): LayerNorm((256,), eps=1e-12, elementwise_affine=True)\n",
       "            (dropout): Dropout(p=0.2, inplace=False)\n",
       "          )\n",
       "        )\n",
       "        (intermediate): BertIntermediate(\n",
       "          (dense): Linear(in_features=256, out_features=256, bias=True)\n",
       "          (intermediate_act_fn): GELUActivation()\n",
       "        )\n",
       "        (output): BertOutput(\n",
       "          (dense): Linear(in_features=256, out_features=256, bias=True)\n",
       "          (LayerNorm): LayerNorm((256,), eps=1e-12, elementwise_affine=True)\n",
       "          (dropout): Dropout(p=0.2, inplace=False)\n",
       "        )\n",
       "      )\n",
       "    )\n",
       "    (position_embeddings): Embedding(512, 256)\n",
       "    (LayerNorm): LayerNorm((256,), eps=1e-12, elementwise_affine=True)\n",
       "    (dropout): Dropout(p=0.2, inplace=False)\n",
       "    (poolers): ModuleList(\n",
       "      (0): AttentionPooling(\n",
       "        (att_fc1): Linear(in_features=256, out_features=256, bias=True)\n",
       "        (att_fc2): Linear(in_features=256, out_features=1, bias=True)\n",
       "      )\n",
       "    )\n",
       "  )\n",
       "  (dense_linear): Linear(in_features=256, out_features=5, bias=True)\n",
       "  (criterion): CrossEntropyLoss()\n",
       ")"
      ]
     },
     "execution_count": 65,
     "metadata": {},
     "output_type": "execute_result"
    }
   ],
   "source": [
    "pretrained_emb_dim = 100\n",
    "model_100d = Model_pretrained_emb(config,outclasses = 5,embeddings = word_embeddings_100,pretrained_emb_dim = pretrained_emb_dim)\n",
    "optimizer = optim.Adam([ {'params': model_100d.parameters(), 'lr': 1e-3}])\n",
    "model_100d.cuda()"
   ]
  },
  {
   "cell_type": "code",
   "execution_count": null,
   "metadata": {
    "colab": {
     "base_uri": "https://localhost:8080/"
    },
    "id": "xiFiNjI_k3T1",
    "outputId": "5069b4ec-aa4c-40ea-a1a9-e038d3a56f0a"
   },
   "outputs": [
    {
     "name": "stdout",
     "output_type": "stream",
     "text": [
      " Ed: 0, train_loss: 1.62106, acc: 0.17188\n",
      " Ed: 12800, train_loss: 1.49871, acc: 0.31763\n",
      " Ed: 25600, train_loss: 1.44421, acc: 0.34963\n",
      " Ed: 38400, train_loss: 1.40950, acc: 0.36951\n",
      "Epoch 0 val accuracy 0.4076\n",
      "Epoch 0 val Macro-F 0.39320016643723976\n",
      " Ed: 0, train_loss: 1.38965, acc: 0.35938\n",
      " Ed: 12800, train_loss: 1.30195, acc: 0.42428\n",
      " Ed: 25600, train_loss: 1.29391, acc: 0.43119\n",
      " Ed: 38400, train_loss: 1.29014, acc: 0.43188\n",
      "Epoch 1 val accuracy 0.4292\n",
      "Epoch 1 val Macro-F 0.4309119114922053\n",
      " Ed: 0, train_loss: 1.26895, acc: 0.53125\n",
      " Ed: 12800, train_loss: 1.25934, acc: 0.45204\n",
      " Ed: 25600, train_loss: 1.25384, acc: 0.45340\n",
      " Ed: 38400, train_loss: 1.25418, acc: 0.45297\n",
      "Epoch 2 val accuracy 0.4416\n",
      "Epoch 2 val Macro-F 0.42697503834259437\n",
      " Ed: 0, train_loss: 1.11370, acc: 0.56250\n",
      " Ed: 12800, train_loss: 1.23159, acc: 0.46580\n",
      " Ed: 25600, train_loss: 1.22754, acc: 0.46630\n",
      " Ed: 38400, train_loss: 1.22769, acc: 0.46594\n",
      "Epoch 3 val accuracy 0.4206\n",
      "Epoch 3 val Macro-F 0.4258406156482365\n",
      " Ed: 0, train_loss: 1.10308, acc: 0.46875\n",
      " Ed: 12800, train_loss: 1.21709, acc: 0.47046\n",
      " Ed: 25600, train_loss: 1.21247, acc: 0.47179\n",
      " Ed: 38400, train_loss: 1.20645, acc: 0.47736\n",
      "Epoch 4 val accuracy 0.4442\n",
      "Epoch 4 val Macro-F 0.41687280518832087\n"
     ]
    }
   ],
   "source": [
    "amazon_cache_100d,model_100d_res = train(model = model_100d, \n",
    "                                       epochs = 5, \n",
    "                                      data = amazon_data_new , \n",
    "                                      label = amazon_label_new,\n",
    "                                      train_index =  amazon_train_index,\n",
    "                                      val_index = amazon_val_index)\n",
    "\n",
    "torch.save({'metrics_cache': amazon_cache_100d,\n",
    "            'model_dict': model_100d_res.state_dict()\n",
    "            }, '/content/drive/MyDrive/nlp_final_project_fastformer/amazon_glove{}_paramsharing={}.pt'.format(pretrained_emb_dim,config.param_sharing))"
   ]
  },
  {
   "cell_type": "markdown",
   "metadata": {
    "id": "WUvBpVzxxGDg"
   },
   "source": [
    "glove100d (with paramsharing):\n",
    "\n",
    "val acc: 0.4442\n",
    "\n",
    "val macro-F: 0.41687280518832087"
   ]
  },
  {
   "cell_type": "code",
   "execution_count": 54,
   "metadata": {
    "id": "MRBhuQB22VmS"
   },
   "outputs": [],
   "source": [
    "glove_100d_val = [0.4442, 0.41687280518832087]"
   ]
  },
  {
   "cell_type": "code",
   "execution_count": null,
   "metadata": {
    "colab": {
     "base_uri": "https://localhost:8080/"
    },
    "id": "o7atwQuek3Wr",
    "outputId": "f0a8b906-3c01-43ff-f7d5-d0aa52ce01df"
   },
   "outputs": [
    {
     "data": {
      "text/plain": [
       "Model_pretrained_emb(\n",
       "  (transform): Linear(in_features=200, out_features=256, bias=True)\n",
       "  (fastformer_model): FastformerEncoder(\n",
       "    (encoders): ModuleList(\n",
       "      (0): FastformerLayer(\n",
       "        (attention): FastAttention(\n",
       "          (self): AdditiveAttention(\n",
       "            (query): Linear(in_features=256, out_features=256, bias=True)\n",
       "            (query_att): Linear(in_features=256, out_features=16, bias=True)\n",
       "            (key): Linear(in_features=256, out_features=256, bias=True)\n",
       "            (key_att): Linear(in_features=256, out_features=16, bias=True)\n",
       "            (value): Linear(in_features=256, out_features=256, bias=True)\n",
       "            (transform): Linear(in_features=256, out_features=256, bias=True)\n",
       "            (softmax): Softmax(dim=-1)\n",
       "          )\n",
       "          (output): BertSelfOutput(\n",
       "            (dense): Linear(in_features=256, out_features=256, bias=True)\n",
       "            (LayerNorm): LayerNorm((256,), eps=1e-12, elementwise_affine=True)\n",
       "            (dropout): Dropout(p=0.2, inplace=False)\n",
       "          )\n",
       "        )\n",
       "        (intermediate): BertIntermediate(\n",
       "          (dense): Linear(in_features=256, out_features=256, bias=True)\n",
       "          (intermediate_act_fn): GELUActivation()\n",
       "        )\n",
       "        (output): BertOutput(\n",
       "          (dense): Linear(in_features=256, out_features=256, bias=True)\n",
       "          (LayerNorm): LayerNorm((256,), eps=1e-12, elementwise_affine=True)\n",
       "          (dropout): Dropout(p=0.2, inplace=False)\n",
       "        )\n",
       "      )\n",
       "      (1): FastformerLayer(\n",
       "        (attention): FastAttention(\n",
       "          (self): AdditiveAttention(\n",
       "            (query): Linear(in_features=256, out_features=256, bias=True)\n",
       "            (query_att): Linear(in_features=256, out_features=16, bias=True)\n",
       "            (key): Linear(in_features=256, out_features=256, bias=True)\n",
       "            (key_att): Linear(in_features=256, out_features=16, bias=True)\n",
       "            (value): Linear(in_features=256, out_features=256, bias=True)\n",
       "            (transform): Linear(in_features=256, out_features=256, bias=True)\n",
       "            (softmax): Softmax(dim=-1)\n",
       "          )\n",
       "          (output): BertSelfOutput(\n",
       "            (dense): Linear(in_features=256, out_features=256, bias=True)\n",
       "            (LayerNorm): LayerNorm((256,), eps=1e-12, elementwise_affine=True)\n",
       "            (dropout): Dropout(p=0.2, inplace=False)\n",
       "          )\n",
       "        )\n",
       "        (intermediate): BertIntermediate(\n",
       "          (dense): Linear(in_features=256, out_features=256, bias=True)\n",
       "          (intermediate_act_fn): GELUActivation()\n",
       "        )\n",
       "        (output): BertOutput(\n",
       "          (dense): Linear(in_features=256, out_features=256, bias=True)\n",
       "          (LayerNorm): LayerNorm((256,), eps=1e-12, elementwise_affine=True)\n",
       "          (dropout): Dropout(p=0.2, inplace=False)\n",
       "        )\n",
       "      )\n",
       "    )\n",
       "    (position_embeddings): Embedding(512, 256)\n",
       "    (LayerNorm): LayerNorm((256,), eps=1e-12, elementwise_affine=True)\n",
       "    (dropout): Dropout(p=0.2, inplace=False)\n",
       "    (poolers): ModuleList(\n",
       "      (0): AttentionPooling(\n",
       "        (att_fc1): Linear(in_features=256, out_features=256, bias=True)\n",
       "        (att_fc2): Linear(in_features=256, out_features=1, bias=True)\n",
       "      )\n",
       "    )\n",
       "  )\n",
       "  (dense_linear): Linear(in_features=256, out_features=5, bias=True)\n",
       "  (criterion): CrossEntropyLoss()\n",
       ")"
      ]
     },
     "execution_count": 67,
     "metadata": {},
     "output_type": "execute_result"
    }
   ],
   "source": [
    "pretrained_emb_dim = 200\n",
    "model_200d = Model_pretrained_emb(config,outclasses = 5,embeddings = word_embeddings_200,pretrained_emb_dim = pretrained_emb_dim)\n",
    "optimizer = optim.Adam([ {'params': model_200d.parameters(), 'lr': 1e-3}])\n",
    "model_200d.cuda()"
   ]
  },
  {
   "cell_type": "code",
   "execution_count": null,
   "metadata": {
    "colab": {
     "base_uri": "https://localhost:8080/"
    },
    "id": "9QrFo3Zfk3Zb",
    "outputId": "91712dc4-12bc-479f-89d0-0a06eb53a1ee"
   },
   "outputs": [
    {
     "name": "stdout",
     "output_type": "stream",
     "text": [
      " Ed: 0, train_loss: 1.65704, acc: 0.15625\n",
      " Ed: 12800, train_loss: 1.45067, acc: 0.35634\n",
      " Ed: 25600, train_loss: 1.39450, acc: 0.38155\n",
      " Ed: 38400, train_loss: 1.36434, acc: 0.39663\n",
      "Epoch 0 val accuracy 0.418\n",
      "Epoch 0 val Macro-F 0.39859595663362396\n",
      " Ed: 0, train_loss: 1.24284, acc: 0.35938\n",
      " Ed: 12800, train_loss: 1.27187, acc: 0.44970\n",
      " Ed: 25600, train_loss: 1.27316, acc: 0.44564\n",
      " Ed: 38400, train_loss: 1.27160, acc: 0.44600\n",
      "Epoch 1 val accuracy 0.4212\n",
      "Epoch 1 val Macro-F 0.4255087297755307\n",
      " Ed: 0, train_loss: 1.15907, acc: 0.51562\n",
      " Ed: 12800, train_loss: 1.25288, acc: 0.45491\n",
      " Ed: 25600, train_loss: 1.24258, acc: 0.46068\n",
      " Ed: 38400, train_loss: 1.23819, acc: 0.46272\n",
      "Epoch 2 val accuracy 0.4498\n",
      "Epoch 2 val Macro-F 0.434674619166315\n",
      " Ed: 0, train_loss: 1.12367, acc: 0.56250\n",
      " Ed: 12800, train_loss: 1.20505, acc: 0.47699\n",
      " Ed: 25600, train_loss: 1.21247, acc: 0.47245\n",
      " Ed: 38400, train_loss: 1.21219, acc: 0.46995\n",
      "Epoch 3 val accuracy 0.445\n",
      "Epoch 3 val Macro-F 0.4500075529248474\n",
      " Ed: 0, train_loss: 1.19474, acc: 0.40625\n",
      " Ed: 12800, train_loss: 1.19083, acc: 0.48539\n",
      " Ed: 25600, train_loss: 1.19255, acc: 0.47989\n",
      " Ed: 38400, train_loss: 1.19640, acc: 0.47868\n",
      "Epoch 4 val accuracy 0.4198\n",
      "Epoch 4 val Macro-F 0.394364511948596\n"
     ]
    }
   ],
   "source": [
    "amazon_cache_200d,model_200d_res = train(model = model_200d, \n",
    "                                       epochs = 5, \n",
    "                                      data = amazon_data_new , \n",
    "                                      label = amazon_label_new,\n",
    "                                      train_index =  amazon_train_index,\n",
    "                                      val_index = amazon_val_index)\n",
    "\n",
    "torch.save({'metrics_cache': amazon_cache_200d,\n",
    "            'model_dict': model_200d_res.state_dict()\n",
    "            }, '/content/drive/MyDrive/nlp_final_project_fastformer/amazon_glove{}_paramsharing={}.pt'.format(pretrained_emb_dim,config.param_sharing))"
   ]
  },
  {
   "cell_type": "code",
   "execution_count": 55,
   "metadata": {
    "id": "r30UxV1kxV2S"
   },
   "outputs": [],
   "source": [
    "glove_200d_val = [0.445, 0.45]"
   ]
  },
  {
   "cell_type": "markdown",
   "metadata": {
    "id": "PNItuLu_xWQi"
   },
   "source": [
    "glove200d (with paramsharing):\n",
    "\n",
    "val acc: 0.445\n",
    "\n",
    "val macro-F: 0.4500075529248474"
   ]
  },
  {
   "cell_type": "code",
   "execution_count": null,
   "metadata": {
    "colab": {
     "base_uri": "https://localhost:8080/"
    },
    "id": "okyUlGt6l1Vb",
    "outputId": "e2386e17-46ee-44d0-9231-2496e8039de3"
   },
   "outputs": [
    {
     "data": {
      "text/plain": [
       "Model_pretrained_emb(\n",
       "  (transform): Linear(in_features=300, out_features=256, bias=True)\n",
       "  (fastformer_model): FastformerEncoder(\n",
       "    (encoders): ModuleList(\n",
       "      (0): FastformerLayer(\n",
       "        (attention): FastAttention(\n",
       "          (self): AdditiveAttention(\n",
       "            (query): Linear(in_features=256, out_features=256, bias=True)\n",
       "            (query_att): Linear(in_features=256, out_features=16, bias=True)\n",
       "            (key): Linear(in_features=256, out_features=256, bias=True)\n",
       "            (key_att): Linear(in_features=256, out_features=16, bias=True)\n",
       "            (value): Linear(in_features=256, out_features=256, bias=True)\n",
       "            (transform): Linear(in_features=256, out_features=256, bias=True)\n",
       "            (softmax): Softmax(dim=-1)\n",
       "          )\n",
       "          (output): BertSelfOutput(\n",
       "            (dense): Linear(in_features=256, out_features=256, bias=True)\n",
       "            (LayerNorm): LayerNorm((256,), eps=1e-12, elementwise_affine=True)\n",
       "            (dropout): Dropout(p=0.2, inplace=False)\n",
       "          )\n",
       "        )\n",
       "        (intermediate): BertIntermediate(\n",
       "          (dense): Linear(in_features=256, out_features=256, bias=True)\n",
       "          (intermediate_act_fn): GELUActivation()\n",
       "        )\n",
       "        (output): BertOutput(\n",
       "          (dense): Linear(in_features=256, out_features=256, bias=True)\n",
       "          (LayerNorm): LayerNorm((256,), eps=1e-12, elementwise_affine=True)\n",
       "          (dropout): Dropout(p=0.2, inplace=False)\n",
       "        )\n",
       "      )\n",
       "      (1): FastformerLayer(\n",
       "        (attention): FastAttention(\n",
       "          (self): AdditiveAttention(\n",
       "            (query): Linear(in_features=256, out_features=256, bias=True)\n",
       "            (query_att): Linear(in_features=256, out_features=16, bias=True)\n",
       "            (key): Linear(in_features=256, out_features=256, bias=True)\n",
       "            (key_att): Linear(in_features=256, out_features=16, bias=True)\n",
       "            (value): Linear(in_features=256, out_features=256, bias=True)\n",
       "            (transform): Linear(in_features=256, out_features=256, bias=True)\n",
       "            (softmax): Softmax(dim=-1)\n",
       "          )\n",
       "          (output): BertSelfOutput(\n",
       "            (dense): Linear(in_features=256, out_features=256, bias=True)\n",
       "            (LayerNorm): LayerNorm((256,), eps=1e-12, elementwise_affine=True)\n",
       "            (dropout): Dropout(p=0.2, inplace=False)\n",
       "          )\n",
       "        )\n",
       "        (intermediate): BertIntermediate(\n",
       "          (dense): Linear(in_features=256, out_features=256, bias=True)\n",
       "          (intermediate_act_fn): GELUActivation()\n",
       "        )\n",
       "        (output): BertOutput(\n",
       "          (dense): Linear(in_features=256, out_features=256, bias=True)\n",
       "          (LayerNorm): LayerNorm((256,), eps=1e-12, elementwise_affine=True)\n",
       "          (dropout): Dropout(p=0.2, inplace=False)\n",
       "        )\n",
       "      )\n",
       "    )\n",
       "    (position_embeddings): Embedding(512, 256)\n",
       "    (LayerNorm): LayerNorm((256,), eps=1e-12, elementwise_affine=True)\n",
       "    (dropout): Dropout(p=0.2, inplace=False)\n",
       "    (poolers): ModuleList(\n",
       "      (0): AttentionPooling(\n",
       "        (att_fc1): Linear(in_features=256, out_features=256, bias=True)\n",
       "        (att_fc2): Linear(in_features=256, out_features=1, bias=True)\n",
       "      )\n",
       "    )\n",
       "  )\n",
       "  (dense_linear): Linear(in_features=256, out_features=5, bias=True)\n",
       "  (criterion): CrossEntropyLoss()\n",
       ")"
      ]
     },
     "execution_count": 71,
     "metadata": {},
     "output_type": "execute_result"
    }
   ],
   "source": [
    "pretrained_emb_dim = 300\n",
    "model_300d = Model_pretrained_emb(config,outclasses = 5,embeddings = word_embeddings_300,pretrained_emb_dim = pretrained_emb_dim)\n",
    "optimizer = optim.Adam([ {'params': model_300d.parameters(), 'lr': 1e-3}])\n",
    "model_300d.cuda()"
   ]
  },
  {
   "cell_type": "code",
   "execution_count": null,
   "metadata": {
    "colab": {
     "base_uri": "https://localhost:8080/"
    },
    "id": "uxdZ9D2El6NH",
    "outputId": "53e0e2d9-325e-4937-f62c-d35235b45803"
   },
   "outputs": [
    {
     "name": "stdout",
     "output_type": "stream",
     "text": [
      " Ed: 0, train_loss: 1.62556, acc: 0.20312\n",
      " Ed: 12800, train_loss: 1.43366, acc: 0.36140\n",
      " Ed: 25600, train_loss: 1.37370, acc: 0.39281\n",
      " Ed: 38400, train_loss: 1.34635, acc: 0.40687\n",
      "Epoch 0 val accuracy 0.4018\n",
      "Epoch 0 val Macro-F 0.3905551365235523\n",
      " Ed: 0, train_loss: 1.25053, acc: 0.48438\n",
      " Ed: 12800, train_loss: 1.25777, acc: 0.44737\n",
      " Ed: 25600, train_loss: 1.25838, acc: 0.44880\n",
      " Ed: 38400, train_loss: 1.25332, acc: 0.45089\n",
      "Epoch 1 val accuracy 0.4406\n",
      "Epoch 1 val Macro-F 0.42949810155118523\n",
      " Ed: 0, train_loss: 1.11882, acc: 0.46875\n",
      " Ed: 12800, train_loss: 1.22145, acc: 0.46175\n",
      " Ed: 25600, train_loss: 1.21778, acc: 0.46614\n",
      " Ed: 38400, train_loss: 1.21804, acc: 0.46794\n",
      "Epoch 2 val accuracy 0.4396\n",
      "Epoch 2 val Macro-F 0.44264162801495066\n",
      " Ed: 0, train_loss: 1.11672, acc: 0.53125\n",
      " Ed: 12800, train_loss: 1.21522, acc: 0.46805\n",
      " Ed: 25600, train_loss: 1.20902, acc: 0.47144\n",
      " Ed: 38400, train_loss: 1.20427, acc: 0.47366\n",
      "Epoch 3 val accuracy 0.4362\n",
      "Epoch 3 val Macro-F 0.43130921719898385\n",
      " Ed: 0, train_loss: 1.22079, acc: 0.43750\n",
      " Ed: 12800, train_loss: 1.18379, acc: 0.48678\n",
      " Ed: 25600, train_loss: 1.18616, acc: 0.48402\n",
      " Ed: 38400, train_loss: 1.18391, acc: 0.48461\n",
      "Epoch 4 val accuracy 0.4522\n",
      "Epoch 4 val Macro-F 0.4342004453226235\n"
     ]
    }
   ],
   "source": [
    "amazon_cache_300d,model_300d_res = train(model = model_300d, \n",
    "                                       epochs = 5, \n",
    "                                      data = amazon_data_new , \n",
    "                                      label = amazon_label_new,\n",
    "                                      train_index =  amazon_train_index,\n",
    "                                      val_index = amazon_val_index)\n",
    "\n",
    "torch.save({'metrics_cache': amazon_cache_300d,\n",
    "            'model_dict': model_300d_res.state_dict()\n",
    "            }, '/content/drive/MyDrive/nlp_final_project_fastformer/amazon_glove{}_paramsharing={}.pt'.format(pretrained_emb_dim,config.param_sharing))"
   ]
  },
  {
   "cell_type": "markdown",
   "metadata": {
    "id": "R6zxrF9FyhfH"
   },
   "source": [
    "glove300d (with paramsharing):\n",
    "\n",
    "val acc: 0.4522\n",
    "\n",
    "val macro-F: 0.4342004453226235"
   ]
  },
  {
   "cell_type": "code",
   "execution_count": 56,
   "metadata": {
    "id": "suwgVnoJ2jvX"
   },
   "outputs": [],
   "source": [
    "glove_300d_val = [0.4522, 0.4342004453226235]"
   ]
  },
  {
   "cell_type": "code",
   "execution_count": null,
   "metadata": {
    "id": "46Vni6r9yfld"
   },
   "outputs": [],
   "source": [
    "def test(model, data, label, test_index):\n",
    "    \n",
    "    model.eval()\n",
    "    allpred = []\n",
    "    for cnt in range(len(test_index)//64+1):\n",
    "\n",
    "        log_ids = data[test_index][cnt*64:cnt*64+64,:config.max_position_embeddings]\n",
    "        targets= label[test_index][cnt*64:cnt*64+64]\n",
    "        log_ids = torch.LongTensor(log_ids).cuda(non_blocking=True)\n",
    "        targets = torch.LongTensor(targets).cuda(non_blocking=True)\n",
    "\n",
    "        bz_loss3, y_hat3 = model(log_ids, targets)\n",
    "#         allpred += y_hat3\n",
    "        allpred += y_hat3.to('cpu').detach().numpy().tolist()\n",
    "\n",
    "    y_pred = np.argmax(allpred,axis=-1)\n",
    "    y_true = label[test_index]\n",
    "\n",
    "    print('test accuracy',accuracy_score(y_true, y_pred))\n",
    "    print('test Macro-F',f1_score(y_true, y_pred,average = 'macro'))"
   ]
  },
  {
   "cell_type": "markdown",
   "metadata": {
    "id": "W6dSYucIIpBy"
   },
   "source": [
    "#### Test Results on Amazon dataset using glove 50-300 dimension"
   ]
  },
  {
   "cell_type": "code",
   "execution_count": 25,
   "metadata": {
    "id": "5GqWmqdVrQx6"
   },
   "outputs": [],
   "source": [
    "model_50d = Model_pretrained_emb(config,outclasses = 5,embeddings = word_embeddings,pretrained_emb_dim = 50)\n",
    "model_100d = Model_pretrained_emb(config,outclasses = 5,embeddings = word_embeddings_100,pretrained_emb_dim = 100)\n",
    "model_200d = Model_pretrained_emb(config,outclasses = 5,embeddings = word_embeddings_200,pretrained_emb_dim = 200)\n",
    "model_300d = Model_pretrained_emb(config,outclasses = 5,embeddings = word_embeddings_300,pretrained_emb_dim = 300)"
   ]
  },
  {
   "cell_type": "code",
   "execution_count": 44,
   "metadata": {
    "id": "sJh8L4DWsB-6"
   },
   "outputs": [],
   "source": [
    "amazon_50d = torch.load('/content/drive/MyDrive/nlp_final_project_fastformer/amazon_glove50d_paramsharing=True.pt', map_location=torch.device('cpu'))"
   ]
  },
  {
   "cell_type": "code",
   "execution_count": 45,
   "metadata": {
    "colab": {
     "base_uri": "https://localhost:8080/"
    },
    "id": "WHppw-qHrQz8",
    "outputId": "6fab3a70-0d7d-417a-af26-d33daf1e1f99"
   },
   "outputs": [
    {
     "data": {
      "text/plain": [
       "<All keys matched successfully>"
      ]
     },
     "execution_count": 45,
     "metadata": {},
     "output_type": "execute_result"
    }
   ],
   "source": [
    "model_50d.load_state_dict(amazon_50d['model_dict'])"
   ]
  },
  {
   "cell_type": "code",
   "execution_count": 47,
   "metadata": {
    "colab": {
     "base_uri": "https://localhost:8080/"
    },
    "id": "Y4ErnRqfrQ4U",
    "outputId": "d96c73fc-b6b2-4390-af7a-50043c5c0650"
   },
   "outputs": [
    {
     "name": "stdout",
     "output_type": "stream",
     "text": [
      "test accuracy 0.4096\n",
      "test Macro-F 0.3971812759759611\n"
     ]
    }
   ],
   "source": [
    "test(model_50d.cuda(), amazon_data_new, amazon_label_new, amazon_test_index)"
   ]
  },
  {
   "cell_type": "markdown",
   "metadata": {
    "id": "q-AfchjEvlZr"
   },
   "source": [
    "amazon glove 50d (with paramsharing)\n",
    "\n",
    "test accuracy 0.4096\n",
    "\n",
    "test Macro-F 0.3971812759759611"
   ]
  },
  {
   "cell_type": "code",
   "execution_count": 57,
   "metadata": {
    "id": "BK7Drb1f2yA0"
   },
   "outputs": [],
   "source": [
    "glove_50d_test = [0.4096,0.3971812759759611]"
   ]
  },
  {
   "cell_type": "code",
   "execution_count": 49,
   "metadata": {
    "colab": {
     "base_uri": "https://localhost:8080/"
    },
    "id": "NSmugYLGvOpc",
    "outputId": "4ce4c1bc-1d8e-4ab2-eec7-785aad737a68"
   },
   "outputs": [
    {
     "name": "stdout",
     "output_type": "stream",
     "text": [
      "test accuracy 0.4416\n",
      "test Macro-F 0.4179757038579264\n"
     ]
    }
   ],
   "source": [
    "amazon_100d = torch.load('/content/drive/MyDrive/nlp_final_project_fastformer/amazon_glove100_paramsharing=True.pt', map_location=torch.device('cpu'))\n",
    "model_100d.load_state_dict(amazon_100d['model_dict'])\n",
    "test(model_100d.cuda(), amazon_data_new, amazon_label_new, amazon_test_index)"
   ]
  },
  {
   "cell_type": "markdown",
   "metadata": {
    "id": "9CJSQUynwlxj"
   },
   "source": [
    "amazon glove 100d (with paramsharing)\n",
    "\n",
    "test accuracy 0.4416\n",
    "\n",
    "test Macro-F 0.4179757038579264"
   ]
  },
  {
   "cell_type": "code",
   "execution_count": 60,
   "metadata": {
    "id": "vvWnUwR623kk"
   },
   "outputs": [],
   "source": [
    "glove_100d_test = [0.4416,0.4179757038579264]"
   ]
  },
  {
   "cell_type": "code",
   "execution_count": 50,
   "metadata": {
    "colab": {
     "base_uri": "https://localhost:8080/"
    },
    "id": "2m5yXND9vOuV",
    "outputId": "4c736e77-2890-4454-876f-1b5bed6e8314"
   },
   "outputs": [
    {
     "name": "stdout",
     "output_type": "stream",
     "text": [
      "test accuracy 0.426\n",
      "test Macro-F 0.3973358713447165\n"
     ]
    }
   ],
   "source": [
    "amazon_200d = torch.load('/content/drive/MyDrive/nlp_final_project_fastformer/amazon_glove200_paramsharing=True.pt', map_location=torch.device('cpu'))\n",
    "model_200d.load_state_dict(amazon_200d['model_dict'])\n",
    "test(model_200d.cuda(), amazon_data_new, amazon_label_new, amazon_test_index)"
   ]
  },
  {
   "cell_type": "markdown",
   "metadata": {
    "id": "1gu8eD3cwufq"
   },
   "source": [
    "amazon glove 200d (with paramsharing)\n",
    "\n",
    "test accuracy 0.426\n",
    "\n",
    "test Macro-F 0.3973358713447165"
   ]
  },
  {
   "cell_type": "code",
   "execution_count": 61,
   "metadata": {
    "id": "_K_EXV7n28Q8"
   },
   "outputs": [],
   "source": [
    "glove_200d_test = [0.426,0.3973358713447165]"
   ]
  },
  {
   "cell_type": "code",
   "execution_count": 52,
   "metadata": {
    "colab": {
     "base_uri": "https://localhost:8080/"
    },
    "id": "1QouDSiQwRAK",
    "outputId": "814c632b-4dcf-42cc-fdc1-223f0c2a374b"
   },
   "outputs": [
    {
     "name": "stdout",
     "output_type": "stream",
     "text": [
      "test accuracy 0.457\n",
      "test Macro-F 0.4379391751958033\n"
     ]
    }
   ],
   "source": [
    "amazon_300d = torch.load('/content/drive/MyDrive/nlp_final_project_fastformer/amazon_glove300_paramsharing=True.pt', map_location=torch.device('cpu'))\n",
    "model_300d.load_state_dict(amazon_300d['model_dict'])\n",
    "test(model_300d.cuda(), amazon_data_new, amazon_label_new, amazon_test_index)"
   ]
  },
  {
   "cell_type": "markdown",
   "metadata": {
    "id": "o1If8cE8wu6U"
   },
   "source": [
    "amazon glove 300d (with paramsharing)\n",
    "\n",
    "test accuracy 0.457\n",
    "\n",
    "test Macro-F 0.4379391751958033 "
   ]
  },
  {
   "cell_type": "code",
   "execution_count": 62,
   "metadata": {
    "id": "56P-5PbA1hr7"
   },
   "outputs": [],
   "source": [
    "glove_300d_test = [0.457,0.4379391751958033]"
   ]
  },
  {
   "cell_type": "markdown",
   "metadata": {
    "id": "Kw8pi8FmI6zL"
   },
   "source": [
    "#### Plot the validation and test result"
   ]
  },
  {
   "cell_type": "code",
   "execution_count": 117,
   "metadata": {
    "id": "tGQJQK4cyWMd"
   },
   "outputs": [],
   "source": [
    "def plot_figure(glove_50d,glove_100d,glove_200d,glove_300d,\n",
    "                labels,set):\n",
    "    plt.rcParams['axes.labelsize'] = 16  # xy轴label的size\n",
    "    plt.rcParams['xtick.labelsize'] = 12  # x轴ticks的size\n",
    "    plt.rcParams['ytick.labelsize'] = 14  # y轴ticks的size\n",
    "    # plt.rcParams['legend.fontsize'] = 12  # 图例的size\n",
    "\n",
    "\n",
    "    width = 0.15  # 柱形的宽度\n",
    "    x1_list = []\n",
    "    x2_list = []\n",
    "    x3_list = []\n",
    "    x4_list = []\n",
    "    for i in range(len(glove_50d)):\n",
    "        x1_list.append(i)\n",
    "        x2_list.append(i + width)\n",
    "        x3_list.append(i+ 2*width)\n",
    "        x4_list.append(i+ 3*width)\n",
    "\n",
    "    # plt.figure(figsize=(20, 10), dpi=80)\n",
    "    fig, ax1 = plt.subplots(figsize=(8, 5))\n",
    "\n",
    "\n",
    "    ax1.set_ylabel('Accuracy')\n",
    "    ax1.set_ylim(0, 0.6)\n",
    "    a1 = ax1.bar(x1_list, glove_50d, width=width, color='lightcoral', align='edge', label = 'glove_50d')\n",
    "    \n",
    "\n",
    "    ax1.set_xticklabels(ax1.get_xticklabels()) \n",
    "    ax1.set_title('Accuracy and Macro-F of Different Pretrained Embedding on {} set'.format(set),fontsize = 14)\n",
    "\n",
    "    ax2 = ax1.twinx()\n",
    "    ax2.set_ylabel('Macro-F')\n",
    "    ax2.set_ylim(0, 0.6)\n",
    "    a2 = ax2.bar(x2_list, glove_100d, width=width, color='lightblue', align='edge', tick_label=labels,label = 'glove_100d')\n",
    "\n",
    "\n",
    "    ax3 = ax2.twinx()\n",
    "    ax3.set_ylim(0, 0.6)\n",
    "    a3 = ax3.bar(x3_list, glove_200d, width=width, color='darkseagreen', align='edge', tick_label=labels,label = 'glove_200d')\n",
    "\n",
    "\n",
    "    ax4 = ax3.twinx()\n",
    "    ax4.set_ylim(0, 0.6)\n",
    "    a4 = ax4.bar(x4_list, glove_300d, width=width, color='papayawhip', align='edge', tick_label=labels,label = 'glove_300d')\n",
    "\n",
    "    plt.legend(handles = [a1,a2,a3,a4])\n",
    "    plt.tight_layout()\n",
    "\n",
    "    plt.show()"
   ]
  },
  {
   "cell_type": "code",
   "execution_count": 118,
   "metadata": {
    "colab": {
     "base_uri": "https://localhost:8080/",
     "height": 369
    },
    "id": "4Ts6EbDR7_AN",
    "outputId": "4458ed03-354f-4489-c99a-863158104f02"
   },
   "outputs": [
    {
     "data": {
      "image/png": "[encoded data removed]",
      "text/plain": [
       "<Figure size 576x360 with 4 Axes>"
      ]
     },
     "metadata": {
      "needs_background": "light"
     },
     "output_type": "display_data"
    }
   ],
   "source": [
    "labels = ['Accuracy','Macro-F']\n",
    "plot_figure(glove_50d_val,glove_100d_val,glove_200d_val,glove_300d_val,\n",
    "                labels,'Validation')"
   ]
  },
  {
   "cell_type": "code",
   "execution_count": 119,
   "metadata": {
    "colab": {
     "base_uri": "https://localhost:8080/",
     "height": 369
    },
    "id": "YDMy51Rj7_CZ",
    "outputId": "d14cb34d-5537-43f1-b53f-a995c6f892bc"
   },
   "outputs": [
    {
     "data": {
      "image/png": "[encoded data removed]",
      "text/plain": [
       "<Figure size 576x360 with 4 Axes>"
      ]
     },
     "metadata": {
      "needs_background": "light"
     },
     "output_type": "display_data"
    }
   ],
   "source": [
    "plot_figure(glove_50d_test,glove_100d_test,glove_200d_test,glove_300d_test,\n",
    "                labels,'test')"
   ]
  },
  {
   "cell_type": "code",
   "execution_count": null,
   "metadata": {
    "id": "YPXFyBeS7_E9"
   },
   "outputs": [],
   "source": []
  },
  {
   "cell_type": "code",
   "execution_count": 121,
   "metadata": {
    "colab": {
     "base_uri": "https://localhost:8080/"
    },
    "id": "VJMGBxXtESIe",
    "outputId": "4e9a0c93-d606-4094-8319-a371fa74d9f0"
   },
   "outputs": [
    {
     "data": {
      "text/plain": [
       "{'train_loss': [tensor(10.6277),\n",
       "  tensor(9.9152),\n",
       "  tensor(9.6340),\n",
       "  tensor(9.5284),\n",
       "  tensor(9.3603)],\n",
       " 'train_acc': [tensor(3.2326),\n",
       "  tensor(3.5688),\n",
       "  tensor(3.7049),\n",
       "  tensor(3.7518),\n",
       "  tensor(3.8398)],\n",
       " 'train_f1': [0.4005200808433601,\n",
       "  0.4441380658106871,\n",
       "  0.46212983044961176,\n",
       "  0.4682210377870617,\n",
       "  0.4800923319833423],\n",
       " 'val_loss': [tensor(1.3497),\n",
       "  tensor(1.2703),\n",
       "  tensor(1.3092),\n",
       "  tensor(1.3030),\n",
       "  tensor(1.2719)],\n",
       " 'val_acc': [0.4018, 0.4406, 0.4396, 0.4362, 0.4522],\n",
       " 'val_f1': [0.3905551365235523,\n",
       "  0.42949810155118523,\n",
       "  0.44264162801495066,\n",
       "  0.43130921719898385,\n",
       "  0.4342004453226235]}"
      ]
     },
     "execution_count": 121,
     "metadata": {},
     "output_type": "execute_result"
    }
   ],
   "source": []
  },
  {
   "cell_type": "code",
   "execution_count": null,
   "metadata": {
    "id": "wiaBGuX1EuAA"
   },
   "outputs": [],
   "source": []
  },
  {
   "cell_type": "code",
   "execution_count": null,
   "metadata": {
    "id": "urwUS7gYEuCT"
   },
   "outputs": [],
   "source": []
  },
  {
   "cell_type": "markdown",
   "metadata": {
    "id": "wi7Zi5OtJC8f"
   },
   "source": [
    "#### Try run more epochs for glove 300d"
   ]
  },
  {
   "cell_type": "code",
   "execution_count": 122,
   "metadata": {
    "colab": {
     "base_uri": "https://localhost:8080/"
    },
    "id": "j7FWbvKYEuEf",
    "outputId": "f10080cf-34cc-44c7-9f41-45ec1d9664aa"
   },
   "outputs": [
    {
     "data": {
      "text/plain": [
       "Model_pretrained_emb(\n",
       "  (transform): Linear(in_features=300, out_features=256, bias=True)\n",
       "  (fastformer_model): FastformerEncoder(\n",
       "    (encoders): ModuleList(\n",
       "      (0): FastformerLayer(\n",
       "        (attention): FastAttention(\n",
       "          (self): AdditiveAttention(\n",
       "            (query): Linear(in_features=256, out_features=256, bias=True)\n",
       "            (query_att): Linear(in_features=256, out_features=16, bias=True)\n",
       "            (key): Linear(in_features=256, out_features=256, bias=True)\n",
       "            (key_att): Linear(in_features=256, out_features=16, bias=True)\n",
       "            (value): Linear(in_features=256, out_features=256, bias=True)\n",
       "            (transform): Linear(in_features=256, out_features=256, bias=True)\n",
       "            (softmax): Softmax(dim=-1)\n",
       "          )\n",
       "          (output): BertSelfOutput(\n",
       "            (dense): Linear(in_features=256, out_features=256, bias=True)\n",
       "            (LayerNorm): LayerNorm((256,), eps=1e-12, elementwise_affine=True)\n",
       "            (dropout): Dropout(p=0.2, inplace=False)\n",
       "          )\n",
       "        )\n",
       "        (intermediate): BertIntermediate(\n",
       "          (dense): Linear(in_features=256, out_features=256, bias=True)\n",
       "          (intermediate_act_fn): GELUActivation()\n",
       "        )\n",
       "        (output): BertOutput(\n",
       "          (dense): Linear(in_features=256, out_features=256, bias=True)\n",
       "          (LayerNorm): LayerNorm((256,), eps=1e-12, elementwise_affine=True)\n",
       "          (dropout): Dropout(p=0.2, inplace=False)\n",
       "        )\n",
       "      )\n",
       "      (1): FastformerLayer(\n",
       "        (attention): FastAttention(\n",
       "          (self): AdditiveAttention(\n",
       "            (query): Linear(in_features=256, out_features=256, bias=True)\n",
       "            (query_att): Linear(in_features=256, out_features=16, bias=True)\n",
       "            (key): Linear(in_features=256, out_features=256, bias=True)\n",
       "            (key_att): Linear(in_features=256, out_features=16, bias=True)\n",
       "            (value): Linear(in_features=256, out_features=256, bias=True)\n",
       "            (transform): Linear(in_features=256, out_features=256, bias=True)\n",
       "            (softmax): Softmax(dim=-1)\n",
       "          )\n",
       "          (output): BertSelfOutput(\n",
       "            (dense): Linear(in_features=256, out_features=256, bias=True)\n",
       "            (LayerNorm): LayerNorm((256,), eps=1e-12, elementwise_affine=True)\n",
       "            (dropout): Dropout(p=0.2, inplace=False)\n",
       "          )\n",
       "        )\n",
       "        (intermediate): BertIntermediate(\n",
       "          (dense): Linear(in_features=256, out_features=256, bias=True)\n",
       "          (intermediate_act_fn): GELUActivation()\n",
       "        )\n",
       "        (output): BertOutput(\n",
       "          (dense): Linear(in_features=256, out_features=256, bias=True)\n",
       "          (LayerNorm): LayerNorm((256,), eps=1e-12, elementwise_affine=True)\n",
       "          (dropout): Dropout(p=0.2, inplace=False)\n",
       "        )\n",
       "      )\n",
       "    )\n",
       "    (position_embeddings): Embedding(512, 256)\n",
       "    (LayerNorm): LayerNorm((256,), eps=1e-12, elementwise_affine=True)\n",
       "    (dropout): Dropout(p=0.2, inplace=False)\n",
       "    (poolers): ModuleList(\n",
       "      (0): AttentionPooling(\n",
       "        (att_fc1): Linear(in_features=256, out_features=256, bias=True)\n",
       "        (att_fc2): Linear(in_features=256, out_features=1, bias=True)\n",
       "      )\n",
       "    )\n",
       "  )\n",
       "  (dense_linear): Linear(in_features=256, out_features=5, bias=True)\n",
       "  (criterion): CrossEntropyLoss()\n",
       ")"
      ]
     },
     "execution_count": 122,
     "metadata": {},
     "output_type": "execute_result"
    }
   ],
   "source": [
    "pretrained_emb_dim = 300\n",
    "model_300d = Model_pretrained_emb(config,outclasses = 5,embeddings = word_embeddings_300,pretrained_emb_dim = pretrained_emb_dim)\n",
    "optimizer = optim.Adam([ {'params': model_300d.parameters(), 'lr': 1e-3}])\n",
    "model_300d.cuda()"
   ]
  },
  {
   "cell_type": "code",
   "execution_count": null,
   "metadata": {
    "colab": {
     "base_uri": "https://localhost:8080/"
    },
    "id": "9AD7DYysEuG9",
    "outputId": "a9b2ed35-393a-4374-badf-5e98c842c610"
   },
   "outputs": [
    {
     "name": "stdout",
     "output_type": "stream",
     "text": [
      " Ed: 0, train_loss: 1.62291, acc: 0.15625\n",
      " Ed: 12800, train_loss: 1.39947, acc: 0.37990\n",
      " Ed: 25600, train_loss: 1.35663, acc: 0.40173\n",
      " Ed: 38400, train_loss: 1.34021, acc: 0.41012\n",
      "Epoch 0 val accuracy 0.4322\n",
      "Epoch 0 val Macro-F 0.4272291001676498\n",
      " Ed: 0, train_loss: 1.23573, acc: 0.45312\n",
      " Ed: 12800, train_loss: 1.26895, acc: 0.44535\n",
      " Ed: 25600, train_loss: 1.25772, acc: 0.45036\n",
      " Ed: 38400, train_loss: 1.25146, acc: 0.45196\n",
      "Epoch 1 val accuracy 0.4398\n",
      "Epoch 1 val Macro-F 0.4412694183887772\n",
      " Ed: 0, train_loss: 1.17224, acc: 0.53125\n",
      " Ed: 12800, train_loss: 1.21546, acc: 0.47069\n",
      " Ed: 25600, train_loss: 1.22401, acc: 0.46287\n",
      " Ed: 38400, train_loss: 1.22433, acc: 0.46514\n",
      "Epoch 2 val accuracy 0.4442\n",
      "Epoch 2 val Macro-F 0.43202334690938243\n",
      " Ed: 0, train_loss: 1.23071, acc: 0.45312\n",
      " Ed: 12800, train_loss: 1.19973, acc: 0.47691\n",
      " Ed: 25600, train_loss: 1.19780, acc: 0.47810\n",
      " Ed: 38400, train_loss: 1.19863, acc: 0.47769\n",
      "Epoch 3 val accuracy 0.4432\n",
      "Epoch 3 val Macro-F 0.4342910795643259\n",
      " Ed: 0, train_loss: 1.28421, acc: 0.45312\n",
      " Ed: 12800, train_loss: 1.17702, acc: 0.49090\n",
      " Ed: 25600, train_loss: 1.18331, acc: 0.48776\n",
      " Ed: 38400, train_loss: 1.18538, acc: 0.48573\n",
      "Epoch 4 val accuracy 0.4554\n",
      "Epoch 4 val Macro-F 0.4476253785916521\n",
      " Ed: 0, train_loss: 1.16445, acc: 0.56250\n",
      " Ed: 12800, train_loss: 1.16706, acc: 0.49300\n",
      " Ed: 25600, train_loss: 1.16919, acc: 0.49143\n",
      " Ed: 38400, train_loss: 1.17257, acc: 0.49048\n",
      "Epoch 5 val accuracy 0.449\n",
      "Epoch 5 val Macro-F 0.43317375438700606\n",
      " Ed: 0, train_loss: 1.33720, acc: 0.42188\n",
      " Ed: 12800, train_loss: 1.15500, acc: 0.50404\n",
      " Ed: 25600, train_loss: 1.15475, acc: 0.50094\n"
     ]
    }
   ],
   "source": [
    "amazon_cache_300d,model_300d_res = train(model = model_300d, \n",
    "                                       epochs = 20, \n",
    "                                      data = amazon_data_new , \n",
    "                                      label = amazon_label_new,\n",
    "                                      train_index =  amazon_train_index,\n",
    "                                      val_index = amazon_val_index)\n",
    "\n",
    "torch.save({'metrics_cache': amazon_cache_300d,\n",
    "            'model_dict': model_300d_res.state_dict()\n",
    "            }, '/content/drive/MyDrive/nlp_final_project_fastformer/amazon_glove{}_paramsharing={}_20epochs.pt'.format(pretrained_emb_dim,config.param_sharing))"
   ]
  },
  {
   "cell_type": "markdown",
   "metadata": {
    "id": "-TsSlBLl6TM3"
   },
   "source": [
    "### Try without mask"
   ]
  },
  {
   "cell_type": "code",
   "execution_count": null,
   "metadata": {
    "id": "wRBL4NwoOFSC"
   },
   "outputs": [],
   "source": [
    "def acc(y_true, y_hat):\n",
    "    y_hat = torch.argmax(y_hat, dim=-1)\n",
    "    tot = y_true.shape[0]\n",
    "    hit = torch.sum(y_true == y_hat)\n",
    "    return hit.data.float() * 1.0 / tot"
   ]
  },
  {
   "cell_type": "code",
   "execution_count": null,
   "metadata": {
    "id": "V5OtUQ0UJ0MS"
   },
   "outputs": [],
   "source": [
    "class AttentionPooling(nn.Module):\n",
    "    def __init__(self, config):\n",
    "        self.config = config\n",
    "        super(AttentionPooling, self).__init__()\n",
    "        self.att_fc1 = nn.Linear(config.hidden_size, config.hidden_size)\n",
    "        self.att_fc2 = nn.Linear(config.hidden_size, 1)\n",
    "        self.apply(self.init_weights)\n",
    "        \n",
    "    def init_weights(self, module):\n",
    "        if isinstance(module, nn.Linear):\n",
    "            module.weight.data.normal_(mean=0.0, std=self.config.initializer_range)\n",
    "        if isinstance(module, nn.Linear) and module.bias is not None:\n",
    "            module.bias.data.zero_()\n",
    "            \n",
    "                \n",
    "    def forward(self, x):\n",
    "        bz = x.shape[0]\n",
    "        e = self.att_fc1(x)\n",
    "        e = nn.Tanh()(e)\n",
    "        alpha = self.att_fc2(e)\n",
    "        alpha = torch.exp(alpha)\n",
    "        # if attn_mask is not None:\n",
    "        #     alpha = alpha * attn_mask.unsqueeze(2)\n",
    "        alpha = alpha / (torch.sum(alpha, dim=1, keepdim=True) + 1e-8)\n",
    "        x = torch.bmm(x.permute(0, 2, 1), alpha)\n",
    "        x = torch.reshape(x, (bz, -1))  \n",
    "        return x"
   ]
  },
  {
   "cell_type": "code",
   "execution_count": null,
   "metadata": {
    "id": "TAurc-DD3sxI"
   },
   "outputs": [],
   "source": [
    "class AdditiveAttention(nn.Module):\n",
    "    def __init__(self, config):\n",
    "        super(AdditiveAttention, self).__init__()\n",
    "        self.config = config\n",
    "\n",
    "        if config.hidden_size % config.num_attention_heads != 0:\n",
    "            raise ValueError(\n",
    "                \"The hidden size (%d) is not a multiple of the number of attention \"\n",
    "                \"heads (%d)\" %\n",
    "                (config.hidden_size, config.num_attention_heads))\n",
    "            \n",
    "        self.attention_head_size = int(config.hidden_size /config.num_attention_heads)\n",
    "        self.num_attention_heads = config.num_attention_heads\n",
    "        self.all_head_size = self.num_attention_heads * self.attention_head_size\n",
    "        self.emb_dim = config.hidden_size\n",
    "#         self.emb_dim = 50\n",
    "\n",
    "        self.query = nn.Linear(self.emb_dim, self.all_head_size)\n",
    "        self.query_att = nn.Linear(self.all_head_size, self.num_attention_heads)\n",
    "\n",
    "        self.key = nn.Linear(self.emb_dim, self.all_head_size)\n",
    "        self.key_att = nn.Linear(self.all_head_size, self.num_attention_heads)\n",
    "\n",
    "        self.value = nn.Linear(self.emb_dim, self.all_head_size)\n",
    "\n",
    "        self.transform = nn.Linear(self.all_head_size, self.all_head_size)\n",
    "\n",
    "        self.softmax = nn.Softmax(dim=-1)\n",
    "        \n",
    "        self.apply(self.init_weights)\n",
    "\n",
    "        self.param_sharing = config.param_sharing\n",
    "\n",
    "    def init_weights(self, module):\n",
    "        if isinstance(module, nn.Linear):\n",
    "            module.weight.data.normal_(mean=0.0, std=self.config.initializer_range)\n",
    "        if isinstance(module, nn.Linear) and module.bias is not None:\n",
    "            module.bias.data.zero_()\n",
    "                \n",
    "    def transpose_for_scores(self, x):\n",
    "        new_x_shape = x.size()[:-1] + (self.num_attention_heads,self.attention_head_size)\n",
    "        x = x.view(*new_x_shape)\n",
    "        return x.permute(0, 2, 1, 3)\n",
    "    \n",
    "    def forward(self, input):\n",
    "        # input:(batch_size, seq_len, emb_dim)\n",
    "        batch_size, seq_len, _ = input.shape\n",
    "\n",
    "        # concatenated Q matrix for all heads (batch_size, seq_len, all_head_size)\n",
    "        concat_Q = self.query(input)\n",
    "        # concatenated K matrix for all heads (batch_size, seq_len, all_head_size)\n",
    "        concat_K = self.key(input)\n",
    "\n",
    "        # (batch_size, num_head, seq_len)\n",
    "        query_for_score = self.query_att(concat_Q).transpose(1, 2) / self.attention_head_size**0.5\n",
    "        # add attention mask\n",
    "        # query_for_score += attention_mask\n",
    "\n",
    "        # the weight alpha : (batch_size, num_head, 1, seq_len)\n",
    "        query_weight = self.softmax(query_for_score).unsqueeze(2)\n",
    "\n",
    "        # (batch_size, num_head, seq_len, head_dim)\n",
    "        byhead_Q = self.transpose_for_scores(concat_Q)\n",
    "        # weighted sum of q, get the global representation of q \n",
    "        # after transpose: (batch_size, 1, num_head, head_dim)\n",
    "        # after view: (batch_size, 1, num_head* head_dim)\n",
    "        global_q = torch.matmul(query_weight, byhead_Q).transpose(1, 2).view(-1,1,self.num_attention_heads*self.attention_head_size)\n",
    "        # (batch_size, seq_len, num_head* head_dim)\n",
    "        global_q_matrix = global_q.repeat(1, seq_len,1)\n",
    "        \n",
    "\n",
    "        # global q dot product with k (batch_size, seq_len, all_head_size)\n",
    "        P = concat_K * global_q_matrix\n",
    "        # (batch_size, num_head, seq_len)\n",
    "        P_for_score = (self.key_att(P)/ self.attention_head_size**0.5).transpose(1, 2)\n",
    "        # add attention mask\n",
    "        # P_for_score +=attention_mask\n",
    "\n",
    "        # the weight beta (batch_size, num_head, 1, seq_len)\n",
    "        query_key_weight = self.softmax(P_for_score).unsqueeze(2)\n",
    "        # (batch_size, num_head, seq_len, head_dim)\n",
    "        byhead_P = self.transpose_for_scores(P)\n",
    "        # (batch_size, num_head, 1, head_dim)\n",
    "        global_k = torch.matmul(query_key_weight, byhead_P)\n",
    "\n",
    "        if self.param_sharing:\n",
    "            # query-value parameter sharing\n",
    "            # (batch_size, num_head, 1, head_dim) (batch_size, num_head, seq_len, head_dim) -> (batch_size, num_head, seq_len, head_dim)\n",
    "            # after transpose: (batch_size, seq_len, num_head,  head_dim)\n",
    "            weighted_value =(global_k * byhead_Q).transpose(1, 2)\n",
    "\n",
    "        else:\n",
    "            # without query value param sharing\n",
    "            concat_V = self.value(input)\n",
    "            byhead_V = self.transpose_for_scores(concat_V)\n",
    "\n",
    "            weighted_value =(global_k * byhead_V).transpose(1, 2)\n",
    "\n",
    "\n",
    "        # (batch_size, seq_len, num_head*head_dim)\n",
    "        weighted_value = weighted_value.reshape(weighted_value.size()[:-2] + (self.num_attention_heads * self.attention_head_size,))\n",
    "        # add the original Q as a residual\n",
    "        weighted_value = self.transform(weighted_value) + concat_Q\n",
    "      \n",
    "        return weighted_value\n",
    "\n",
    "class FastAttention(nn.Module):\n",
    "    def __init__(self, config):\n",
    "        super(FastAttention, self).__init__()\n",
    "        self.self = AdditiveAttention(config)\n",
    "        self.output = BertSelfOutput(config)\n",
    "\n",
    "    def forward(self, input_tensor):\n",
    "        self_output = self.self(input_tensor)\n",
    "        attention_output = self.output(self_output, input_tensor)\n",
    "        return attention_output\n",
    "\n",
    "\n",
    "\n",
    "class FastformerLayer(nn.Module):\n",
    "    def __init__(self, config):\n",
    "        super(FastformerLayer, self).__init__()\n",
    "        self.attention = FastAttention(config)\n",
    "        self.intermediate = BertIntermediate(config)\n",
    "        self.output = BertOutput(config)\n",
    "\n",
    "    def forward(self, hidden_states):\n",
    "        attention_output = self.attention(hidden_states)\n",
    "        intermediate_output = self.intermediate(attention_output)\n",
    "        layer_output = self.output(intermediate_output, attention_output)\n",
    "        return layer_output\n",
    "\n",
    "class FastformerEncoder(nn.Module):\n",
    "    def __init__(self, config, pooler_count=1):\n",
    "        super(FastformerEncoder, self).__init__()\n",
    "        self.config = config\n",
    "        self.encoders = nn.ModuleList([FastformerLayer(config) for _ in range(config.num_hidden_layers)])\n",
    "        self.position_embeddings = nn.Embedding(config.max_position_embeddings, config.hidden_size)\n",
    "#         self.position_embeddings = nn.Embedding(config.max_position_embeddings, 50)\n",
    "        self.LayerNorm = nn.LayerNorm(config.hidden_size, eps=config.layer_norm_eps)\n",
    "        self.dropout = nn.Dropout(config.hidden_dropout_prob)\n",
    "\n",
    "        # support multiple different poolers with shared bert encoder.\n",
    "        self.poolers = nn.ModuleList()\n",
    "        if config.pooler_type == 'weightpooler':\n",
    "            for _ in range(pooler_count):\n",
    "                self.poolers.append(AttentionPooling(config))\n",
    "        # logging.info(f\"This model has {len(self.poolers)} poolers.\")\n",
    "\n",
    "        self.apply(self.init_weights)\n",
    "\n",
    "    def init_weights(self, module):\n",
    "        if isinstance(module, (nn.Linear, nn.Embedding)):\n",
    "            module.weight.data.normal_(mean=0.0, std=self.config.initializer_range)\n",
    "            if isinstance(module, (nn.Embedding)) and module.padding_idx is not None:\n",
    "                with torch.no_grad():\n",
    "                    module.weight[module.padding_idx].fill_(0)\n",
    "        elif isinstance(module, nn.LayerNorm):\n",
    "            module.bias.data.zero_()\n",
    "            module.weight.data.fill_(1.0)\n",
    "        if isinstance(module, nn.Linear) and module.bias is not None:\n",
    "            module.bias.data.zero_()\n",
    "\n",
    "    def forward(self, \n",
    "                input_embs, \n",
    "                pooler_index=0):\n",
    "        #input_embs: batch_size, seq_len, emb_dim\n",
    "        #attention_mask: batch_size, seq_len, emb_dim\n",
    "\n",
    "        # extended_attention_mask = attention_mask.unsqueeze(1)\n",
    "        # extended_attention_mask = extended_attention_mask.to(dtype=next(self.parameters()).dtype)  # fp16 compatibility\n",
    "        # extended_attention_mask = (1.0 - extended_attention_mask) * -10000.0\n",
    "\n",
    "        batch_size, seq_length, emb_dim = input_embs.shape\n",
    "        position_ids = torch.arange(seq_length, dtype=torch.long, device=input_embs.device)\n",
    "        position_ids = position_ids.unsqueeze(0).expand(batch_size, -1)\n",
    "        position_embeddings = self.position_embeddings(position_ids)\n",
    "\n",
    "        embeddings = input_embs + position_embeddings\n",
    "        \n",
    "        embeddings = self.LayerNorm(embeddings)\n",
    "        embeddings = self.dropout(embeddings)\n",
    "        #print(embeddings.size())\n",
    "        all_hidden_states = [embeddings]\n",
    "\n",
    "        for i, layer_module in enumerate(self.encoders):\n",
    "            layer_outputs = layer_module(all_hidden_states[-1])\n",
    "            all_hidden_states.append(layer_outputs)\n",
    "        assert len(self.poolers) > pooler_index\n",
    "        output = self.poolers[pooler_index](all_hidden_states[-1])\n",
    "\n",
    "        return output \n",
    "\n",
    "\n",
    "class Model_pretrained_emb(torch.nn.Module):\n",
    "\n",
    "    def __init__(self,config,outclasses,embeddings: word_embeddings ):\n",
    "        super(Model_pretrained_emb, self).__init__()\n",
    "        self.config = config\n",
    "        # self.word_embedding = nn.Embedding(num_tokens,config.hidden_size,padding_idx=0)\n",
    "        self.word_embedding = embeddings\n",
    "        self.transform = nn.Linear(50,config.hidden_size)\n",
    "        self.fastformer_model = FastformerEncoder(config)\n",
    "        self.dense_linear = nn.Linear(config.hidden_size,outclasses)\n",
    "        self.criterion = nn.CrossEntropyLoss() \n",
    "        self.apply(self.init_weights)\n",
    "        \n",
    "    def init_weights(self, module):\n",
    "        if isinstance(module, (nn.Linear, nn.Embedding)):\n",
    "            module.weight.data.normal_(mean=0.0, std=self.config.initializer_range)\n",
    "            if isinstance(module, (nn.Embedding)) and module.padding_idx is not None:\n",
    "                with torch.no_grad():\n",
    "                    module.weight[module.padding_idx].fill_(0)\n",
    "        if isinstance(module, nn.Linear) and module.bias is not None:\n",
    "            module.bias.data.zero_()\n",
    "    \n",
    "    def forward(self,input_ids,targets):\n",
    "        # mask = input_ids.bool().float()\n",
    "        # batch_emb = []\n",
    "        # for batch in range(len(input_ids)):\n",
    "        #   embds = []\n",
    "        #   for word in input_ids[batch]:\n",
    "        #       embds.append(word_embeddings.get_embedding(word))\n",
    "        #   batch_emb.append(embds)\n",
    "\n",
    "        batch_emb = [[word_embeddings.get_embedding(word) for word in input_ids[batch] ] for batch in range(len(input_ids)) ]\n",
    "\n",
    "        embds_tensor = torch.FloatTensor(np.array(batch_emb)).cuda()\n",
    "        \n",
    "        # # embds=self.word_embedding(input_ids)\n",
    "\n",
    "        # embds = []\n",
    "        # for word in ex_words:\n",
    "        #     # print(word)\n",
    "        #     embds.append(self.word_embeddings.get_embedding(word))\n",
    "        # embds_tensor = torch.FloatTensor(np.array(embds))\n",
    "\n",
    "        trans_embds = self.transform(embds_tensor)\n",
    "\n",
    "        text_vec = self.fastformer_model(trans_embds)\n",
    "        score = self.dense_linear(text_vec)\n",
    "        loss = self.criterion(score, targets) \n",
    "        return loss, score"
   ]
  },
  {
   "cell_type": "code",
   "execution_count": null,
   "metadata": {
    "id": "zKLfdDbzNl-y"
   },
   "outputs": [],
   "source": [
    "model = Model_pretrained_emb(config,outclasses = 5,embeddings = word_embeddings)\n",
    "optimizer = optim.Adam([ {'params': model.parameters(), 'lr': 1e-3}])\n",
    "model.cuda()"
   ]
  },
  {
   "cell_type": "code",
   "execution_count": null,
   "metadata": {
    "id": "dUt1jmuIQGPg"
   },
   "outputs": [],
   "source": [
    "amazon_data_new = np.load('amazon_review_data_new_index.npy')\n",
    "amazon_label_new = np.load('amazon_review_label_new_index.npy')\n",
    "\n",
    "amazon_train_index = [i for i in range(40000)]\n",
    "amazon_val_index = [i for i in range(40000,45000)]\n",
    "amazon_test_index = [i for i in range(45000,50000)]"
   ]
  },
  {
   "cell_type": "code",
   "execution_count": null,
   "metadata": {
    "colab": {
     "base_uri": "https://localhost:8080/",
     "height": 819
    },
    "id": "lLQPAdTwN0P8",
    "outputId": "c7dd7b24-9ba5-4acc-ecbd-6184087999d3"
   },
   "outputs": [
    {
     "name": "stdout",
     "output_type": "stream",
     "text": [
      " Ed: 0, train_loss: 1.60870, acc: 0.15625\n",
      " Ed: 12800, train_loss: 1.56944, acc: 0.26757\n",
      " Ed: 25600, train_loss: 1.50983, acc: 0.31156\n",
      " Ed: 38400, train_loss: 1.46817, acc: 0.33481\n",
      "Epoch 0 val accuracy 0.376\n",
      "Epoch 0 val Macro-F 0.3103821815280262\n",
      " Ed: 0, train_loss: 1.40611, acc: 0.32812\n",
      " Ed: 12800, train_loss: 1.35450, acc: 0.40765\n",
      " Ed: 25600, train_loss: 1.34931, acc: 0.40430\n",
      " Ed: 38400, train_loss: 1.33903, acc: 0.40646\n",
      "Epoch 1 val accuracy 0.3828\n",
      "Epoch 1 val Macro-F 0.30653450769023494\n",
      " Ed: 0, train_loss: 1.42712, acc: 0.39062\n",
      " Ed: 12800, train_loss: 1.29949, acc: 0.42351\n",
      " Ed: 25600, train_loss: 1.29190, acc: 0.42901\n",
      " Ed: 38400, train_loss: 1.28730, acc: 0.42980\n",
      "Epoch 2 val accuracy 0.4212\n",
      "Epoch 2 val Macro-F 0.4049859693588919\n",
      " Ed: 0, train_loss: 1.38571, acc: 0.32812\n",
      " Ed: 12800, train_loss: 1.26548, acc: 0.44216\n",
      " Ed: 25600, train_loss: 1.25652, acc: 0.44818\n",
      " Ed: 38400, train_loss: 1.25233, acc: 0.44936\n",
      "Epoch 3 val accuracy 0.4288\n",
      "Epoch 3 val Macro-F 0.3851962205916279\n",
      " Ed: 0, train_loss: 1.29483, acc: 0.42188\n"
     ]
    },
    {
     "ename": "KeyboardInterrupt",
     "evalue": "ignored",
     "output_type": "error",
     "traceback": [
      "\u001b[0;31m---------------------------------------------------------------------------\u001b[0m",
      "\u001b[0;31mKeyboardInterrupt\u001b[0m                         Traceback (most recent call last)",
      "\u001b[0;32m<ipython-input-22-0dbff3eff39c>\u001b[0m in \u001b[0;36m<module>\u001b[0;34m\u001b[0m\n\u001b[1;32m      3\u001b[0m                            \u001b[0mlabel\u001b[0m \u001b[0;34m=\u001b[0m \u001b[0mamazon_label_new\u001b[0m\u001b[0;34m,\u001b[0m\u001b[0;34m\u001b[0m\u001b[0;34m\u001b[0m\u001b[0m\n\u001b[1;32m      4\u001b[0m                            \u001b[0mtrain_index\u001b[0m \u001b[0;34m=\u001b[0m  \u001b[0mamazon_train_index\u001b[0m\u001b[0;34m,\u001b[0m\u001b[0;34m\u001b[0m\u001b[0;34m\u001b[0m\u001b[0m\n\u001b[0;32m----> 5\u001b[0;31m                            val_index = amazon_val_index)\n\u001b[0m",
      "\u001b[0;32m<ipython-input-13-da46cc231672>\u001b[0m in \u001b[0;36mtrain\u001b[0;34m(epochs, data, label, train_index, val_index)\u001b[0m\n\u001b[1;32m     27\u001b[0m             \u001b[0mtargets\u001b[0m \u001b[0;34m=\u001b[0m \u001b[0mtorch\u001b[0m\u001b[0;34m.\u001b[0m\u001b[0mLongTensor\u001b[0m\u001b[0;34m(\u001b[0m\u001b[0mtargets\u001b[0m\u001b[0;34m)\u001b[0m\u001b[0;34m.\u001b[0m\u001b[0mcuda\u001b[0m\u001b[0;34m(\u001b[0m\u001b[0mnon_blocking\u001b[0m\u001b[0;34m=\u001b[0m\u001b[0;32mTrue\u001b[0m\u001b[0;34m)\u001b[0m\u001b[0;34m\u001b[0m\u001b[0;34m\u001b[0m\u001b[0m\n\u001b[1;32m     28\u001b[0m \u001b[0;34m\u001b[0m\u001b[0m\n\u001b[0;32m---> 29\u001b[0;31m             \u001b[0mbz_loss\u001b[0m\u001b[0;34m,\u001b[0m \u001b[0my_hat\u001b[0m \u001b[0;34m=\u001b[0m \u001b[0mmodel\u001b[0m\u001b[0;34m(\u001b[0m\u001b[0mlog_ids\u001b[0m\u001b[0;34m,\u001b[0m \u001b[0mtargets\u001b[0m\u001b[0;34m)\u001b[0m\u001b[0;34m\u001b[0m\u001b[0;34m\u001b[0m\u001b[0m\n\u001b[0m\u001b[1;32m     30\u001b[0m             \u001b[0mtrain_allpred\u001b[0m \u001b[0;34m+=\u001b[0m \u001b[0my_hat\u001b[0m\u001b[0;34m.\u001b[0m\u001b[0mto\u001b[0m\u001b[0;34m(\u001b[0m\u001b[0;34m'cpu'\u001b[0m\u001b[0;34m)\u001b[0m\u001b[0;34m.\u001b[0m\u001b[0mdetach\u001b[0m\u001b[0;34m(\u001b[0m\u001b[0;34m)\u001b[0m\u001b[0;34m.\u001b[0m\u001b[0mnumpy\u001b[0m\u001b[0;34m(\u001b[0m\u001b[0;34m)\u001b[0m\u001b[0;34m.\u001b[0m\u001b[0mtolist\u001b[0m\u001b[0;34m(\u001b[0m\u001b[0;34m)\u001b[0m\u001b[0;34m\u001b[0m\u001b[0;34m\u001b[0m\u001b[0m\n\u001b[1;32m     31\u001b[0m \u001b[0;34m\u001b[0m\u001b[0m\n",
      "\u001b[0;32m/usr/local/lib/python3.7/dist-packages/torch/nn/modules/module.py\u001b[0m in \u001b[0;36m_call_impl\u001b[0;34m(self, *input, **kwargs)\u001b[0m\n\u001b[1;32m   1128\u001b[0m         if not (self._backward_hooks or self._forward_hooks or self._forward_pre_hooks or _global_backward_hooks\n\u001b[1;32m   1129\u001b[0m                 or _global_forward_hooks or _global_forward_pre_hooks):\n\u001b[0;32m-> 1130\u001b[0;31m             \u001b[0;32mreturn\u001b[0m \u001b[0mforward_call\u001b[0m\u001b[0;34m(\u001b[0m\u001b[0;34m*\u001b[0m\u001b[0minput\u001b[0m\u001b[0;34m,\u001b[0m \u001b[0;34m**\u001b[0m\u001b[0mkwargs\u001b[0m\u001b[0;34m)\u001b[0m\u001b[0;34m\u001b[0m\u001b[0;34m\u001b[0m\u001b[0m\n\u001b[0m\u001b[1;32m   1131\u001b[0m         \u001b[0;31m# Do not call functions when jit is used\u001b[0m\u001b[0;34m\u001b[0m\u001b[0;34m\u001b[0m\u001b[0;34m\u001b[0m\u001b[0m\n\u001b[1;32m   1132\u001b[0m         \u001b[0mfull_backward_hooks\u001b[0m\u001b[0;34m,\u001b[0m \u001b[0mnon_full_backward_hooks\u001b[0m \u001b[0;34m=\u001b[0m \u001b[0;34m[\u001b[0m\u001b[0;34m]\u001b[0m\u001b[0;34m,\u001b[0m \u001b[0;34m[\u001b[0m\u001b[0;34m]\u001b[0m\u001b[0;34m\u001b[0m\u001b[0;34m\u001b[0m\u001b[0m\n",
      "\u001b[0;32m<ipython-input-14-781fb4acf8cc>\u001b[0m in \u001b[0;36mforward\u001b[0;34m(self, input_ids, targets)\u001b[0m\n\u001b[1;32m    221\u001b[0m           \u001b[0membds\u001b[0m \u001b[0;34m=\u001b[0m \u001b[0;34m[\u001b[0m\u001b[0;34m]\u001b[0m\u001b[0;34m\u001b[0m\u001b[0;34m\u001b[0m\u001b[0m\n\u001b[1;32m    222\u001b[0m           \u001b[0;32mfor\u001b[0m \u001b[0mword\u001b[0m \u001b[0;32min\u001b[0m \u001b[0minput_ids\u001b[0m\u001b[0;34m[\u001b[0m\u001b[0mbatch\u001b[0m\u001b[0;34m]\u001b[0m\u001b[0;34m:\u001b[0m\u001b[0;34m\u001b[0m\u001b[0;34m\u001b[0m\u001b[0m\n\u001b[0;32m--> 223\u001b[0;31m               \u001b[0membds\u001b[0m\u001b[0;34m.\u001b[0m\u001b[0mappend\u001b[0m\u001b[0;34m(\u001b[0m\u001b[0mword_embeddings\u001b[0m\u001b[0;34m.\u001b[0m\u001b[0mget_embedding\u001b[0m\u001b[0;34m(\u001b[0m\u001b[0mword\u001b[0m\u001b[0;34m)\u001b[0m\u001b[0;34m)\u001b[0m\u001b[0;34m\u001b[0m\u001b[0;34m\u001b[0m\u001b[0m\n\u001b[0m\u001b[1;32m    224\u001b[0m           \u001b[0mbatch_emb\u001b[0m\u001b[0;34m.\u001b[0m\u001b[0mappend\u001b[0m\u001b[0;34m(\u001b[0m\u001b[0membds\u001b[0m\u001b[0;34m)\u001b[0m\u001b[0;34m\u001b[0m\u001b[0;34m\u001b[0m\u001b[0m\n\u001b[1;32m    225\u001b[0m \u001b[0;34m\u001b[0m\u001b[0m\n",
      "\u001b[0;32m<ipython-input-9-51a77fc809bd>\u001b[0m in \u001b[0;36mget_embedding\u001b[0;34m(self, word_idx)\u001b[0m\n\u001b[1;32m     23\u001b[0m         \u001b[0;31m# word_idx = self.word_indexer.index_of(word)\u001b[0m\u001b[0;34m\u001b[0m\u001b[0;34m\u001b[0m\u001b[0;34m\u001b[0m\u001b[0m\n\u001b[1;32m     24\u001b[0m         \u001b[0;32mif\u001b[0m \u001b[0mword_idx\u001b[0m \u001b[0;34m!=\u001b[0m \u001b[0;34m-\u001b[0m\u001b[0;36m1\u001b[0m\u001b[0;34m:\u001b[0m\u001b[0;34m\u001b[0m\u001b[0;34m\u001b[0m\u001b[0m\n\u001b[0;32m---> 25\u001b[0;31m             \u001b[0;32mreturn\u001b[0m \u001b[0mself\u001b[0m\u001b[0;34m.\u001b[0m\u001b[0mvectors\u001b[0m\u001b[0;34m[\u001b[0m\u001b[0mword_idx\u001b[0m\u001b[0;34m]\u001b[0m\u001b[0;34m\u001b[0m\u001b[0;34m\u001b[0m\u001b[0m\n\u001b[0m\u001b[1;32m     26\u001b[0m         \u001b[0;32melse\u001b[0m\u001b[0;34m:\u001b[0m\u001b[0;34m\u001b[0m\u001b[0;34m\u001b[0m\u001b[0m\n\u001b[1;32m     27\u001b[0m             \u001b[0;32mreturn\u001b[0m \u001b[0mself\u001b[0m\u001b[0;34m.\u001b[0m\u001b[0mvectors\u001b[0m\u001b[0;34m[\u001b[0m\u001b[0mself\u001b[0m\u001b[0;34m.\u001b[0m\u001b[0mword_indexer\u001b[0m\u001b[0;34m.\u001b[0m\u001b[0mindex_of\u001b[0m\u001b[0;34m(\u001b[0m\u001b[0;34m\"UNK\"\u001b[0m\u001b[0;34m)\u001b[0m\u001b[0;34m]\u001b[0m\u001b[0;34m\u001b[0m\u001b[0;34m\u001b[0m\u001b[0m\n",
      "\u001b[0;31mKeyboardInterrupt\u001b[0m: "
     ]
    }
   ],
   "source": [
    "amazon_cache_new,model = train(epochs = 5, \n",
    "                           data = amazon_data_new , \n",
    "                           label = amazon_label_new,\n",
    "                           train_index =  amazon_train_index,\n",
    "                           val_index = amazon_val_index)"
   ]
  }
 ],
 "metadata": {
  "accelerator": "GPU",
  "colab": {
   "collapsed_sections": [
    "E9ZInjmjFGY7",
    "W-FpvrNSE5Pi",
    "9jTFpLy3EVtD",
    "nhyB5oxvs3dU",
    "yNJu4du2iiEH",
    "-TsSlBLl6TM3"
   ],
   "machine_shape": "hm",
   "provenance": []
  },
  "gpuClass": "standard",
  "kernelspec": {
   "display_name": "Python 3",
   "language": "python",
   "name": "python3"
  },
  "language_info": {
   "codemirror_mode": {
    "name": "ipython",
    "version": 3
   },
   "file_extension": ".py",
   "mimetype": "text/x-python",
   "name": "python",
   "nbconvert_exporter": "python",
   "pygments_lexer": "ipython3",
   "version": "3.8.8"
  },
  "vscode": {
   "interpreter": {
    "hash": "5b3ded1ccb95c1d9bd405e7b823d9e85424cde40fbb5985eb47e999ef50e15b4"
   }
  }
 },
 "nbformat": 4,
 "nbformat_minor": 1
}
